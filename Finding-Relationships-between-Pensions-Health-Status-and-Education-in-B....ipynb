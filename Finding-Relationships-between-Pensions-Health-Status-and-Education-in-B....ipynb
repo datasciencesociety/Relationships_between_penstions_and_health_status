{
 "cells": [
  {
   "cell_type": "markdown",
   "metadata": {},
   "source": [
    "## Abstract\n",
    "This document tries to find any meaningful relationships between the level of education, the health status and the financial status of a sample of a survey of pensioner in Bulgaria. The data is provided by the World bank. One way, two way ANOVA as well as kruskal–wallis statistical non parametric test have been used."
   ]
  },
  {
   "cell_type": "code",
   "execution_count": 1,
   "metadata": {},
   "outputs": [],
   "source": [
    "%matplotlib inline"
   ]
  },
  {
   "cell_type": "code",
   "execution_count": 2,
   "metadata": {},
   "outputs": [],
   "source": [
    "import pandas as pd\n",
    "import matplotlib.pyplot as plt\n",
    "import seaborn as sns\n",
    "import scipy.stats as stats\n",
    "import statsmodels.api as sm\n",
    "from statsmodels.formula.api import ols"
   ]
  },
  {
   "cell_type": "markdown",
   "metadata": {},
   "source": [
    "## Table of Contents\n",
    "* [1. Reading the files.](#first-bullet)\n",
    "<br>\n",
    "* [2. Dataset of interest.](#second-bullet)\n",
    "<br>\n",
    "* [3. Data prep.](#third-bullet)\n",
    "<br>\n",
    "* [4. Exploratory Data Analysis.](#fourth-bullet)\n",
    "<br>\n",
    "* [5. Modeling and Hypothesis Testing.](#fifth-bullet)\n",
    "<br>\n",
    "* [6. Conclusion.](#sixth-bullet)\n",
    "<br>\n",
    "* [7. References.](#seventh-bullet)"
   ]
  },
  {
   "cell_type": "markdown",
   "metadata": {},
   "source": [
    "## 1. Reading the files"
   ]
  },
  {
   "cell_type": "code",
   "execution_count": 3,
   "metadata": {},
   "outputs": [],
   "source": [
    "edu = pd.read_stata('data/Education_wb_section_5b.dta')"
   ]
  },
  {
   "cell_type": "markdown",
   "metadata": {},
   "source": [
    "The file is stored as edu. Below we see a preview of the top 5 rows. We have 55 columns."
   ]
  },
  {
   "cell_type": "code",
   "execution_count": 4,
   "metadata": {},
   "outputs": [
    {
     "data": {
      "text/html": [
       "<div>\n",
       "<style scoped>\n",
       "    .dataframe tbody tr th:only-of-type {\n",
       "        vertical-align: middle;\n",
       "    }\n",
       "\n",
       "    .dataframe tbody tr th {\n",
       "        vertical-align: top;\n",
       "    }\n",
       "\n",
       "    .dataframe thead th {\n",
       "        text-align: right;\n",
       "    }\n",
       "</style>\n",
       "<table border=\"1\" class=\"dataframe\">\n",
       "  <thead>\n",
       "    <tr style=\"text-align: right;\">\n",
       "      <th></th>\n",
       "      <th>resp</th>\n",
       "      <th>id</th>\n",
       "      <th>district</th>\n",
       "      <th>city</th>\n",
       "      <th>cluster</th>\n",
       "      <th>location</th>\n",
       "      <th>id_hh</th>\n",
       "      <th>id_hhm</th>\n",
       "      <th>s5b_q1</th>\n",
       "      <th>s5b_q2</th>\n",
       "      <th>...</th>\n",
       "      <th>s5b_q23_8_1</th>\n",
       "      <th>s5b_q23_8_2</th>\n",
       "      <th>s5b_q23_9_1</th>\n",
       "      <th>s5b_q23_9_2</th>\n",
       "      <th>s5b_q23_10_1</th>\n",
       "      <th>s5b_q23_10_2</th>\n",
       "      <th>lp_type</th>\n",
       "      <th>lp_size</th>\n",
       "      <th>lp_eu_region</th>\n",
       "      <th>weight</th>\n",
       "    </tr>\n",
       "  </thead>\n",
       "  <tbody>\n",
       "    <tr>\n",
       "      <th>0</th>\n",
       "      <td>1</td>\n",
       "      <td>244</td>\n",
       "      <td>blagoevgrad</td>\n",
       "      <td>65334</td>\n",
       "      <td>25</td>\n",
       "      <td>urban location</td>\n",
       "      <td>4</td>\n",
       "      <td>1</td>\n",
       "      <td>1</td>\n",
       "      <td>turkish</td>\n",
       "      <td>...</td>\n",
       "      <td>NaN</td>\n",
       "      <td>NaN</td>\n",
       "      <td>NaN</td>\n",
       "      <td>NaN</td>\n",
       "      <td>NaN</td>\n",
       "      <td>NaN</td>\n",
       "      <td>municipality center</td>\n",
       "      <td>20 000 - 49 999</td>\n",
       "      <td>SW</td>\n",
       "      <td>1.148</td>\n",
       "    </tr>\n",
       "    <tr>\n",
       "      <th>1</th>\n",
       "      <td>1</td>\n",
       "      <td>244</td>\n",
       "      <td>blagoevgrad</td>\n",
       "      <td>65334</td>\n",
       "      <td>25</td>\n",
       "      <td>urban location</td>\n",
       "      <td>4</td>\n",
       "      <td>2</td>\n",
       "      <td>1</td>\n",
       "      <td>turkish</td>\n",
       "      <td>...</td>\n",
       "      <td>0.0</td>\n",
       "      <td>0.0</td>\n",
       "      <td>0.0</td>\n",
       "      <td>0.0</td>\n",
       "      <td>0.0</td>\n",
       "      <td>0.0</td>\n",
       "      <td>municipality center</td>\n",
       "      <td>20 000 - 49 999</td>\n",
       "      <td>SW</td>\n",
       "      <td>1.148</td>\n",
       "    </tr>\n",
       "    <tr>\n",
       "      <th>2</th>\n",
       "      <td>1</td>\n",
       "      <td>244</td>\n",
       "      <td>blagoevgrad</td>\n",
       "      <td>65334</td>\n",
       "      <td>25</td>\n",
       "      <td>urban location</td>\n",
       "      <td>4</td>\n",
       "      <td>3</td>\n",
       "      <td>1</td>\n",
       "      <td>turkish</td>\n",
       "      <td>...</td>\n",
       "      <td>0.0</td>\n",
       "      <td>0.0</td>\n",
       "      <td>0.0</td>\n",
       "      <td>0.0</td>\n",
       "      <td>0.0</td>\n",
       "      <td>0.0</td>\n",
       "      <td>municipality center</td>\n",
       "      <td>20 000 - 49 999</td>\n",
       "      <td>SW</td>\n",
       "      <td>1.148</td>\n",
       "    </tr>\n",
       "    <tr>\n",
       "      <th>3</th>\n",
       "      <td>2</td>\n",
       "      <td>8102</td>\n",
       "      <td>haskovo</td>\n",
       "      <td>77195</td>\n",
       "      <td>805</td>\n",
       "      <td>urban location</td>\n",
       "      <td>2</td>\n",
       "      <td>1</td>\n",
       "      <td>1</td>\n",
       "      <td>bulgarian</td>\n",
       "      <td>...</td>\n",
       "      <td>NaN</td>\n",
       "      <td>NaN</td>\n",
       "      <td>NaN</td>\n",
       "      <td>NaN</td>\n",
       "      <td>NaN</td>\n",
       "      <td>NaN</td>\n",
       "      <td>regional center</td>\n",
       "      <td>50 000 - 99 999</td>\n",
       "      <td>SC</td>\n",
       "      <td>0.956</td>\n",
       "    </tr>\n",
       "    <tr>\n",
       "      <th>4</th>\n",
       "      <td>2</td>\n",
       "      <td>8102</td>\n",
       "      <td>haskovo</td>\n",
       "      <td>77195</td>\n",
       "      <td>805</td>\n",
       "      <td>urban location</td>\n",
       "      <td>2</td>\n",
       "      <td>2</td>\n",
       "      <td>1</td>\n",
       "      <td>bulgarian</td>\n",
       "      <td>...</td>\n",
       "      <td>NaN</td>\n",
       "      <td>NaN</td>\n",
       "      <td>NaN</td>\n",
       "      <td>NaN</td>\n",
       "      <td>NaN</td>\n",
       "      <td>NaN</td>\n",
       "      <td>regional center</td>\n",
       "      <td>50 000 - 99 999</td>\n",
       "      <td>SC</td>\n",
       "      <td>0.956</td>\n",
       "    </tr>\n",
       "  </tbody>\n",
       "</table>\n",
       "<p>5 rows × 55 columns</p>\n",
       "</div>"
      ],
      "text/plain": [
       "   resp    id     district   city  cluster        location  id_hh  id_hhm  \\\n",
       "0     1   244  blagoevgrad  65334       25  urban location      4       1   \n",
       "1     1   244  blagoevgrad  65334       25  urban location      4       2   \n",
       "2     1   244  blagoevgrad  65334       25  urban location      4       3   \n",
       "3     2  8102      haskovo  77195      805  urban location      2       1   \n",
       "4     2  8102      haskovo  77195      805  urban location      2       2   \n",
       "\n",
       "   s5b_q1     s5b_q2  ... s5b_q23_8_1 s5b_q23_8_2 s5b_q23_9_1 s5b_q23_9_2  \\\n",
       "0       1    turkish  ...         NaN         NaN         NaN         NaN   \n",
       "1       1    turkish  ...         0.0         0.0         0.0         0.0   \n",
       "2       1    turkish  ...         0.0         0.0         0.0         0.0   \n",
       "3       1  bulgarian  ...         NaN         NaN         NaN         NaN   \n",
       "4       1  bulgarian  ...         NaN         NaN         NaN         NaN   \n",
       "\n",
       "   s5b_q23_10_1 s5b_q23_10_2              lp_type          lp_size  \\\n",
       "0           NaN          NaN  municipality center  20 000 - 49 999   \n",
       "1           0.0          0.0  municipality center  20 000 - 49 999   \n",
       "2           0.0          0.0  municipality center  20 000 - 49 999   \n",
       "3           NaN          NaN      regional center  50 000 - 99 999   \n",
       "4           NaN          NaN      regional center  50 000 - 99 999   \n",
       "\n",
       "  lp_eu_region weight  \n",
       "0           SW  1.148  \n",
       "1           SW  1.148  \n",
       "2           SW  1.148  \n",
       "3           SC  0.956  \n",
       "4           SC  0.956  \n",
       "\n",
       "[5 rows x 55 columns]"
      ]
     },
     "execution_count": 4,
     "metadata": {},
     "output_type": "execute_result"
    }
   ],
   "source": [
    "edu.head()"
   ]
  },
  {
   "cell_type": "markdown",
   "metadata": {},
   "source": [
    "The file has 11439 rows and 55 columns. The names of columns have been commented out with #."
   ]
  },
  {
   "cell_type": "code",
   "execution_count": 5,
   "metadata": {},
   "outputs": [
    {
     "data": {
      "text/plain": [
       "(11439, 55)"
      ]
     },
     "execution_count": 5,
     "metadata": {},
     "output_type": "execute_result"
    }
   ],
   "source": [
    "edu.shape"
   ]
  },
  {
   "cell_type": "code",
   "execution_count": 6,
   "metadata": {},
   "outputs": [],
   "source": [
    "#list(edu.columns)"
   ]
  },
  {
   "cell_type": "markdown",
   "metadata": {},
   "source": [
    "We identify the columns of interest, later they are renamed. There is a preview of the first 5 rows in the new dataframe edu_use."
   ]
  },
  {
   "cell_type": "code",
   "execution_count": 7,
   "metadata": {},
   "outputs": [],
   "source": [
    "edu_use = edu[['id','s5b_q4']]"
   ]
  },
  {
   "cell_type": "code",
   "execution_count": 8,
   "metadata": {},
   "outputs": [],
   "source": [
    "edu_use = edu_use.rename(index=str, columns={\"id\": \"id\", \"s5b_q4\": \"education\"})"
   ]
  },
  {
   "cell_type": "code",
   "execution_count": 9,
   "metadata": {},
   "outputs": [
    {
     "data": {
      "text/html": [
       "<div>\n",
       "<style scoped>\n",
       "    .dataframe tbody tr th:only-of-type {\n",
       "        vertical-align: middle;\n",
       "    }\n",
       "\n",
       "    .dataframe tbody tr th {\n",
       "        vertical-align: top;\n",
       "    }\n",
       "\n",
       "    .dataframe thead th {\n",
       "        text-align: right;\n",
       "    }\n",
       "</style>\n",
       "<table border=\"1\" class=\"dataframe\">\n",
       "  <thead>\n",
       "    <tr style=\"text-align: right;\">\n",
       "      <th></th>\n",
       "      <th>id</th>\n",
       "      <th>education</th>\n",
       "    </tr>\n",
       "  </thead>\n",
       "  <tbody>\n",
       "    <tr>\n",
       "      <th>0</th>\n",
       "      <td>244</td>\n",
       "      <td>initial</td>\n",
       "    </tr>\n",
       "    <tr>\n",
       "      <th>1</th>\n",
       "      <td>244</td>\n",
       "      <td>not finished initial</td>\n",
       "    </tr>\n",
       "    <tr>\n",
       "      <th>2</th>\n",
       "      <td>244</td>\n",
       "      <td>not finished initial</td>\n",
       "    </tr>\n",
       "    <tr>\n",
       "      <th>3</th>\n",
       "      <td>8102</td>\n",
       "      <td>higher, specialist</td>\n",
       "    </tr>\n",
       "    <tr>\n",
       "      <th>4</th>\n",
       "      <td>8102</td>\n",
       "      <td>primary</td>\n",
       "    </tr>\n",
       "  </tbody>\n",
       "</table>\n",
       "</div>"
      ],
      "text/plain": [
       "     id                         education\n",
       "0   244  initial                         \n",
       "1   244              not finished initial\n",
       "2   244              not finished initial\n",
       "3  8102  higher, specialist              \n",
       "4  8102  primary                         "
      ]
     },
     "execution_count": 9,
     "metadata": {},
     "output_type": "execute_result"
    }
   ],
   "source": [
    "edu_use.head()"
   ]
  },
  {
   "cell_type": "markdown",
   "metadata": {},
   "source": [
    "The code for the pension dataset is analogous of the one above so it will be discussed only briefly."
   ]
  },
  {
   "cell_type": "code",
   "execution_count": 10,
   "metadata": {},
   "outputs": [],
   "source": [
    "pen = pd.read_stata('data/Pension_wb_section_8.dta')"
   ]
  },
  {
   "cell_type": "code",
   "execution_count": 11,
   "metadata": {},
   "outputs": [
    {
     "data": {
      "text/html": [
       "<div>\n",
       "<style scoped>\n",
       "    .dataframe tbody tr th:only-of-type {\n",
       "        vertical-align: middle;\n",
       "    }\n",
       "\n",
       "    .dataframe tbody tr th {\n",
       "        vertical-align: top;\n",
       "    }\n",
       "\n",
       "    .dataframe thead th {\n",
       "        text-align: right;\n",
       "    }\n",
       "</style>\n",
       "<table border=\"1\" class=\"dataframe\">\n",
       "  <thead>\n",
       "    <tr style=\"text-align: right;\">\n",
       "      <th></th>\n",
       "      <th>resp</th>\n",
       "      <th>id</th>\n",
       "      <th>district</th>\n",
       "      <th>city</th>\n",
       "      <th>cluster</th>\n",
       "      <th>location</th>\n",
       "      <th>id_hh</th>\n",
       "      <th>id_hhm</th>\n",
       "      <th>s8_q1</th>\n",
       "      <th>s8_q2</th>\n",
       "      <th>...</th>\n",
       "      <th>s8_q5_2_o</th>\n",
       "      <th>s8_q5_3</th>\n",
       "      <th>s8_q5_3_o</th>\n",
       "      <th>s8_q6_1</th>\n",
       "      <th>s8_q6_2</th>\n",
       "      <th>s8_q6_3</th>\n",
       "      <th>lp_type</th>\n",
       "      <th>lp_size</th>\n",
       "      <th>lp_eu_region</th>\n",
       "      <th>weight</th>\n",
       "    </tr>\n",
       "  </thead>\n",
       "  <tbody>\n",
       "    <tr>\n",
       "      <th>0</th>\n",
       "      <td>1</td>\n",
       "      <td>244</td>\n",
       "      <td>blagoevgrad</td>\n",
       "      <td>65334</td>\n",
       "      <td>25</td>\n",
       "      <td>urban location</td>\n",
       "      <td>4</td>\n",
       "      <td>1</td>\n",
       "      <td>2</td>\n",
       "      <td>no</td>\n",
       "      <td>...</td>\n",
       "      <td>NaN</td>\n",
       "      <td>NaN</td>\n",
       "      <td>NaN</td>\n",
       "      <td>NaN</td>\n",
       "      <td>NaN</td>\n",
       "      <td>NaN</td>\n",
       "      <td>municipality center</td>\n",
       "      <td>20 000 - 49 999</td>\n",
       "      <td>SW</td>\n",
       "      <td>1.148</td>\n",
       "    </tr>\n",
       "    <tr>\n",
       "      <th>1</th>\n",
       "      <td>1</td>\n",
       "      <td>244</td>\n",
       "      <td>blagoevgrad</td>\n",
       "      <td>65334</td>\n",
       "      <td>25</td>\n",
       "      <td>urban location</td>\n",
       "      <td>4</td>\n",
       "      <td>2</td>\n",
       "      <td>2</td>\n",
       "      <td>yes</td>\n",
       "      <td>...</td>\n",
       "      <td>NaN</td>\n",
       "      <td>NaN</td>\n",
       "      <td>NaN</td>\n",
       "      <td>240.0</td>\n",
       "      <td>NaN</td>\n",
       "      <td>NaN</td>\n",
       "      <td>municipality center</td>\n",
       "      <td>20 000 - 49 999</td>\n",
       "      <td>SW</td>\n",
       "      <td>1.148</td>\n",
       "    </tr>\n",
       "    <tr>\n",
       "      <th>2</th>\n",
       "      <td>1</td>\n",
       "      <td>244</td>\n",
       "      <td>blagoevgrad</td>\n",
       "      <td>65334</td>\n",
       "      <td>25</td>\n",
       "      <td>urban location</td>\n",
       "      <td>4</td>\n",
       "      <td>3</td>\n",
       "      <td>2</td>\n",
       "      <td>yes</td>\n",
       "      <td>...</td>\n",
       "      <td>NaN</td>\n",
       "      <td>NaN</td>\n",
       "      <td>NaN</td>\n",
       "      <td>240.0</td>\n",
       "      <td>NaN</td>\n",
       "      <td>NaN</td>\n",
       "      <td>municipality center</td>\n",
       "      <td>20 000 - 49 999</td>\n",
       "      <td>SW</td>\n",
       "      <td>1.148</td>\n",
       "    </tr>\n",
       "    <tr>\n",
       "      <th>3</th>\n",
       "      <td>2</td>\n",
       "      <td>8102</td>\n",
       "      <td>haskovo</td>\n",
       "      <td>77195</td>\n",
       "      <td>805</td>\n",
       "      <td>urban location</td>\n",
       "      <td>2</td>\n",
       "      <td>1</td>\n",
       "      <td>1</td>\n",
       "      <td>yes</td>\n",
       "      <td>...</td>\n",
       "      <td>NaN</td>\n",
       "      <td>NaN</td>\n",
       "      <td>NaN</td>\n",
       "      <td>1980.0</td>\n",
       "      <td>208.0</td>\n",
       "      <td>NaN</td>\n",
       "      <td>regional center</td>\n",
       "      <td>50 000 - 99 999</td>\n",
       "      <td>SC</td>\n",
       "      <td>0.956</td>\n",
       "    </tr>\n",
       "    <tr>\n",
       "      <th>4</th>\n",
       "      <td>2</td>\n",
       "      <td>8102</td>\n",
       "      <td>haskovo</td>\n",
       "      <td>77195</td>\n",
       "      <td>805</td>\n",
       "      <td>urban location</td>\n",
       "      <td>2</td>\n",
       "      <td>2</td>\n",
       "      <td>1</td>\n",
       "      <td>yes</td>\n",
       "      <td>...</td>\n",
       "      <td>NaN</td>\n",
       "      <td>NaN</td>\n",
       "      <td>NaN</td>\n",
       "      <td>1032.0</td>\n",
       "      <td>NaN</td>\n",
       "      <td>NaN</td>\n",
       "      <td>regional center</td>\n",
       "      <td>50 000 - 99 999</td>\n",
       "      <td>SC</td>\n",
       "      <td>0.956</td>\n",
       "    </tr>\n",
       "  </tbody>\n",
       "</table>\n",
       "<p>5 rows × 29 columns</p>\n",
       "</div>"
      ],
      "text/plain": [
       "   resp    id     district   city  cluster        location  id_hh  id_hhm  \\\n",
       "0     1   244  blagoevgrad  65334       25  urban location      4       1   \n",
       "1     1   244  blagoevgrad  65334       25  urban location      4       2   \n",
       "2     1   244  blagoevgrad  65334       25  urban location      4       3   \n",
       "3     2  8102      haskovo  77195      805  urban location      2       1   \n",
       "4     2  8102      haskovo  77195      805  urban location      2       2   \n",
       "\n",
       "   s8_q1 s8_q2  ... s8_q5_2_o s8_q5_3 s8_q5_3_o  s8_q6_1  s8_q6_2  s8_q6_3  \\\n",
       "0      2    no  ...       NaN     NaN       NaN      NaN      NaN      NaN   \n",
       "1      2   yes  ...       NaN     NaN       NaN    240.0      NaN      NaN   \n",
       "2      2   yes  ...       NaN     NaN       NaN    240.0      NaN      NaN   \n",
       "3      1   yes  ...       NaN     NaN       NaN   1980.0    208.0      NaN   \n",
       "4      1   yes  ...       NaN     NaN       NaN   1032.0      NaN      NaN   \n",
       "\n",
       "               lp_type          lp_size lp_eu_region weight  \n",
       "0  municipality center  20 000 - 49 999           SW  1.148  \n",
       "1  municipality center  20 000 - 49 999           SW  1.148  \n",
       "2  municipality center  20 000 - 49 999           SW  1.148  \n",
       "3      regional center  50 000 - 99 999           SC  0.956  \n",
       "4      regional center  50 000 - 99 999           SC  0.956  \n",
       "\n",
       "[5 rows x 29 columns]"
      ]
     },
     "execution_count": 11,
     "metadata": {},
     "output_type": "execute_result"
    }
   ],
   "source": [
    "pen.head()"
   ]
  },
  {
   "cell_type": "code",
   "execution_count": 12,
   "metadata": {},
   "outputs": [
    {
     "data": {
      "text/plain": [
       "(12115, 29)"
      ]
     },
     "execution_count": 12,
     "metadata": {},
     "output_type": "execute_result"
    }
   ],
   "source": [
    "pen.shape"
   ]
  },
  {
   "cell_type": "code",
   "execution_count": 13,
   "metadata": {},
   "outputs": [],
   "source": [
    "#list(pen.columns)"
   ]
  },
  {
   "cell_type": "code",
   "execution_count": 14,
   "metadata": {},
   "outputs": [],
   "source": [
    "pen_use = pen[['id','s8_q6_1', 's8_q6_2', 's8_q6_3']]"
   ]
  },
  {
   "cell_type": "code",
   "execution_count": 15,
   "metadata": {},
   "outputs": [],
   "source": [
    "pen_use = pen_use.rename(index=str, columns={\"id\": \"id\", \"s8_q6_1\": \"pention1\", 's8_q6_2':'pention2',\n",
    "                                            's8_q6_3': 'pention3'})"
   ]
  },
  {
   "cell_type": "markdown",
   "metadata": {},
   "source": [
    "Several variables have NaN or Not a number values."
   ]
  },
  {
   "cell_type": "code",
   "execution_count": 16,
   "metadata": {},
   "outputs": [
    {
     "data": {
      "text/html": [
       "<div>\n",
       "<style scoped>\n",
       "    .dataframe tbody tr th:only-of-type {\n",
       "        vertical-align: middle;\n",
       "    }\n",
       "\n",
       "    .dataframe tbody tr th {\n",
       "        vertical-align: top;\n",
       "    }\n",
       "\n",
       "    .dataframe thead th {\n",
       "        text-align: right;\n",
       "    }\n",
       "</style>\n",
       "<table border=\"1\" class=\"dataframe\">\n",
       "  <thead>\n",
       "    <tr style=\"text-align: right;\">\n",
       "      <th></th>\n",
       "      <th>id</th>\n",
       "      <th>pention1</th>\n",
       "      <th>pention2</th>\n",
       "      <th>pention3</th>\n",
       "    </tr>\n",
       "  </thead>\n",
       "  <tbody>\n",
       "    <tr>\n",
       "      <th>0</th>\n",
       "      <td>244</td>\n",
       "      <td>NaN</td>\n",
       "      <td>NaN</td>\n",
       "      <td>NaN</td>\n",
       "    </tr>\n",
       "    <tr>\n",
       "      <th>1</th>\n",
       "      <td>244</td>\n",
       "      <td>240.0</td>\n",
       "      <td>NaN</td>\n",
       "      <td>NaN</td>\n",
       "    </tr>\n",
       "    <tr>\n",
       "      <th>2</th>\n",
       "      <td>244</td>\n",
       "      <td>240.0</td>\n",
       "      <td>NaN</td>\n",
       "      <td>NaN</td>\n",
       "    </tr>\n",
       "    <tr>\n",
       "      <th>3</th>\n",
       "      <td>8102</td>\n",
       "      <td>1980.0</td>\n",
       "      <td>208.0</td>\n",
       "      <td>NaN</td>\n",
       "    </tr>\n",
       "    <tr>\n",
       "      <th>4</th>\n",
       "      <td>8102</td>\n",
       "      <td>1032.0</td>\n",
       "      <td>NaN</td>\n",
       "      <td>NaN</td>\n",
       "    </tr>\n",
       "  </tbody>\n",
       "</table>\n",
       "</div>"
      ],
      "text/plain": [
       "     id  pention1  pention2  pention3\n",
       "0   244       NaN       NaN       NaN\n",
       "1   244     240.0       NaN       NaN\n",
       "2   244     240.0       NaN       NaN\n",
       "3  8102    1980.0     208.0       NaN\n",
       "4  8102    1032.0       NaN       NaN"
      ]
     },
     "execution_count": 16,
     "metadata": {},
     "output_type": "execute_result"
    }
   ],
   "source": [
    "pen_use.head()"
   ]
  },
  {
   "cell_type": "code",
   "execution_count": 17,
   "metadata": {},
   "outputs": [],
   "source": [
    "health = pd.read_stata('data/Health_wb_section_6.dta')"
   ]
  },
  {
   "cell_type": "code",
   "execution_count": 18,
   "metadata": {},
   "outputs": [
    {
     "data": {
      "text/html": [
       "<div>\n",
       "<style scoped>\n",
       "    .dataframe tbody tr th:only-of-type {\n",
       "        vertical-align: middle;\n",
       "    }\n",
       "\n",
       "    .dataframe tbody tr th {\n",
       "        vertical-align: top;\n",
       "    }\n",
       "\n",
       "    .dataframe thead th {\n",
       "        text-align: right;\n",
       "    }\n",
       "</style>\n",
       "<table border=\"1\" class=\"dataframe\">\n",
       "  <thead>\n",
       "    <tr style=\"text-align: right;\">\n",
       "      <th></th>\n",
       "      <th>resp</th>\n",
       "      <th>id</th>\n",
       "      <th>district</th>\n",
       "      <th>city</th>\n",
       "      <th>cluster</th>\n",
       "      <th>location</th>\n",
       "      <th>id_hh</th>\n",
       "      <th>id_hhm</th>\n",
       "      <th>s6_q1</th>\n",
       "      <th>s6_q2</th>\n",
       "      <th>...</th>\n",
       "      <th>s6_q39_6</th>\n",
       "      <th>s6_q39_7_1</th>\n",
       "      <th>s6_q39_7_2</th>\n",
       "      <th>s6_q39_8</th>\n",
       "      <th>s6_q39_9_1</th>\n",
       "      <th>s6_q39_9_2</th>\n",
       "      <th>lp_type</th>\n",
       "      <th>lp_size</th>\n",
       "      <th>lp_eu_region</th>\n",
       "      <th>weight</th>\n",
       "    </tr>\n",
       "  </thead>\n",
       "  <tbody>\n",
       "    <tr>\n",
       "      <th>0</th>\n",
       "      <td>1</td>\n",
       "      <td>244</td>\n",
       "      <td>blagoevgrad</td>\n",
       "      <td>65334</td>\n",
       "      <td>25</td>\n",
       "      <td>urban location</td>\n",
       "      <td>4</td>\n",
       "      <td>1</td>\n",
       "      <td>1</td>\n",
       "      <td>good</td>\n",
       "      <td>...</td>\n",
       "      <td>20</td>\n",
       "      <td>0</td>\n",
       "      <td>0</td>\n",
       "      <td>0</td>\n",
       "      <td>0</td>\n",
       "      <td>0</td>\n",
       "      <td>municipality center</td>\n",
       "      <td>20 000 - 49 999</td>\n",
       "      <td>SW</td>\n",
       "      <td>1.148</td>\n",
       "    </tr>\n",
       "    <tr>\n",
       "      <th>1</th>\n",
       "      <td>1</td>\n",
       "      <td>244</td>\n",
       "      <td>blagoevgrad</td>\n",
       "      <td>65334</td>\n",
       "      <td>25</td>\n",
       "      <td>urban location</td>\n",
       "      <td>4</td>\n",
       "      <td>2</td>\n",
       "      <td>1</td>\n",
       "      <td>good</td>\n",
       "      <td>...</td>\n",
       "      <td>30</td>\n",
       "      <td>0</td>\n",
       "      <td>0</td>\n",
       "      <td>0</td>\n",
       "      <td>0</td>\n",
       "      <td>0</td>\n",
       "      <td>municipality center</td>\n",
       "      <td>20 000 - 49 999</td>\n",
       "      <td>SW</td>\n",
       "      <td>1.148</td>\n",
       "    </tr>\n",
       "    <tr>\n",
       "      <th>2</th>\n",
       "      <td>1</td>\n",
       "      <td>244</td>\n",
       "      <td>blagoevgrad</td>\n",
       "      <td>65334</td>\n",
       "      <td>25</td>\n",
       "      <td>urban location</td>\n",
       "      <td>4</td>\n",
       "      <td>3</td>\n",
       "      <td>1</td>\n",
       "      <td>good</td>\n",
       "      <td>...</td>\n",
       "      <td>30</td>\n",
       "      <td>0</td>\n",
       "      <td>0</td>\n",
       "      <td>0</td>\n",
       "      <td>0</td>\n",
       "      <td>0</td>\n",
       "      <td>municipality center</td>\n",
       "      <td>20 000 - 49 999</td>\n",
       "      <td>SW</td>\n",
       "      <td>1.148</td>\n",
       "    </tr>\n",
       "    <tr>\n",
       "      <th>3</th>\n",
       "      <td>2</td>\n",
       "      <td>8102</td>\n",
       "      <td>haskovo</td>\n",
       "      <td>77195</td>\n",
       "      <td>805</td>\n",
       "      <td>urban location</td>\n",
       "      <td>2</td>\n",
       "      <td>1</td>\n",
       "      <td>1</td>\n",
       "      <td>poor</td>\n",
       "      <td>...</td>\n",
       "      <td>180</td>\n",
       "      <td>0</td>\n",
       "      <td>0</td>\n",
       "      <td>0</td>\n",
       "      <td>0</td>\n",
       "      <td>0</td>\n",
       "      <td>regional center</td>\n",
       "      <td>50 000 - 99 999</td>\n",
       "      <td>SC</td>\n",
       "      <td>0.956</td>\n",
       "    </tr>\n",
       "    <tr>\n",
       "      <th>4</th>\n",
       "      <td>2</td>\n",
       "      <td>8102</td>\n",
       "      <td>haskovo</td>\n",
       "      <td>77195</td>\n",
       "      <td>805</td>\n",
       "      <td>urban location</td>\n",
       "      <td>2</td>\n",
       "      <td>2</td>\n",
       "      <td>1</td>\n",
       "      <td>poor</td>\n",
       "      <td>...</td>\n",
       "      <td>180</td>\n",
       "      <td>0</td>\n",
       "      <td>0</td>\n",
       "      <td>0</td>\n",
       "      <td>0</td>\n",
       "      <td>0</td>\n",
       "      <td>regional center</td>\n",
       "      <td>50 000 - 99 999</td>\n",
       "      <td>SC</td>\n",
       "      <td>0.956</td>\n",
       "    </tr>\n",
       "  </tbody>\n",
       "</table>\n",
       "<p>5 rows × 88 columns</p>\n",
       "</div>"
      ],
      "text/plain": [
       "   resp    id     district   city  cluster        location  id_hh  id_hhm  \\\n",
       "0     1   244  blagoevgrad  65334       25  urban location      4       1   \n",
       "1     1   244  blagoevgrad  65334       25  urban location      4       2   \n",
       "2     1   244  blagoevgrad  65334       25  urban location      4       3   \n",
       "3     2  8102      haskovo  77195      805  urban location      2       1   \n",
       "4     2  8102      haskovo  77195      805  urban location      2       2   \n",
       "\n",
       "   s6_q1 s6_q2  ... s6_q39_6 s6_q39_7_1 s6_q39_7_2 s6_q39_8 s6_q39_9_1  \\\n",
       "0      1  good  ...       20          0          0        0          0   \n",
       "1      1  good  ...       30          0          0        0          0   \n",
       "2      1  good  ...       30          0          0        0          0   \n",
       "3      1  poor  ...      180          0          0        0          0   \n",
       "4      1  poor  ...      180          0          0        0          0   \n",
       "\n",
       "  s6_q39_9_2              lp_type          lp_size lp_eu_region weight  \n",
       "0          0  municipality center  20 000 - 49 999           SW  1.148  \n",
       "1          0  municipality center  20 000 - 49 999           SW  1.148  \n",
       "2          0  municipality center  20 000 - 49 999           SW  1.148  \n",
       "3          0      regional center  50 000 - 99 999           SC  0.956  \n",
       "4          0      regional center  50 000 - 99 999           SC  0.956  \n",
       "\n",
       "[5 rows x 88 columns]"
      ]
     },
     "execution_count": 18,
     "metadata": {},
     "output_type": "execute_result"
    }
   ],
   "source": [
    "health.head()"
   ]
  },
  {
   "cell_type": "code",
   "execution_count": 19,
   "metadata": {},
   "outputs": [
    {
     "data": {
      "text/plain": [
       "(12115, 88)"
      ]
     },
     "execution_count": 19,
     "metadata": {},
     "output_type": "execute_result"
    }
   ],
   "source": [
    "health.shape"
   ]
  },
  {
   "cell_type": "code",
   "execution_count": 20,
   "metadata": {},
   "outputs": [],
   "source": [
    "#list(health.columns)"
   ]
  },
  {
   "cell_type": "code",
   "execution_count": 21,
   "metadata": {},
   "outputs": [],
   "source": [
    "health_use = health[['id', 's6_q2']]"
   ]
  },
  {
   "cell_type": "code",
   "execution_count": 22,
   "metadata": {},
   "outputs": [],
   "source": [
    "health_use = health_use.rename(index=str, columns={\"id\": \"id\", \"s6_q2\": \"health\"})"
   ]
  },
  {
   "cell_type": "code",
   "execution_count": 23,
   "metadata": {},
   "outputs": [
    {
     "data": {
      "text/html": [
       "<div>\n",
       "<style scoped>\n",
       "    .dataframe tbody tr th:only-of-type {\n",
       "        vertical-align: middle;\n",
       "    }\n",
       "\n",
       "    .dataframe tbody tr th {\n",
       "        vertical-align: top;\n",
       "    }\n",
       "\n",
       "    .dataframe thead th {\n",
       "        text-align: right;\n",
       "    }\n",
       "</style>\n",
       "<table border=\"1\" class=\"dataframe\">\n",
       "  <thead>\n",
       "    <tr style=\"text-align: right;\">\n",
       "      <th></th>\n",
       "      <th>id</th>\n",
       "      <th>health</th>\n",
       "    </tr>\n",
       "  </thead>\n",
       "  <tbody>\n",
       "    <tr>\n",
       "      <th>0</th>\n",
       "      <td>244</td>\n",
       "      <td>good</td>\n",
       "    </tr>\n",
       "    <tr>\n",
       "      <th>1</th>\n",
       "      <td>244</td>\n",
       "      <td>good</td>\n",
       "    </tr>\n",
       "    <tr>\n",
       "      <th>2</th>\n",
       "      <td>244</td>\n",
       "      <td>good</td>\n",
       "    </tr>\n",
       "    <tr>\n",
       "      <th>3</th>\n",
       "      <td>8102</td>\n",
       "      <td>poor</td>\n",
       "    </tr>\n",
       "    <tr>\n",
       "      <th>4</th>\n",
       "      <td>8102</td>\n",
       "      <td>poor</td>\n",
       "    </tr>\n",
       "  </tbody>\n",
       "</table>\n",
       "</div>"
      ],
      "text/plain": [
       "     id health\n",
       "0   244   good\n",
       "1   244   good\n",
       "2   244   good\n",
       "3  8102   poor\n",
       "4  8102   poor"
      ]
     },
     "execution_count": 23,
     "metadata": {},
     "output_type": "execute_result"
    }
   ],
   "source": [
    "health_use.head()"
   ]
  },
  {
   "cell_type": "code",
   "execution_count": 24,
   "metadata": {},
   "outputs": [],
   "source": [
    "fin = pd.read_stata('data/Financial situation_wb_section_14.dta')"
   ]
  },
  {
   "cell_type": "code",
   "execution_count": 25,
   "metadata": {},
   "outputs": [
    {
     "data": {
      "text/plain": [
       "(4300, 49)"
      ]
     },
     "execution_count": 25,
     "metadata": {},
     "output_type": "execute_result"
    }
   ],
   "source": [
    "fin.shape"
   ]
  },
  {
   "cell_type": "code",
   "execution_count": 26,
   "metadata": {},
   "outputs": [
    {
     "data": {
      "text/html": [
       "<div>\n",
       "<style scoped>\n",
       "    .dataframe tbody tr th:only-of-type {\n",
       "        vertical-align: middle;\n",
       "    }\n",
       "\n",
       "    .dataframe tbody tr th {\n",
       "        vertical-align: top;\n",
       "    }\n",
       "\n",
       "    .dataframe thead th {\n",
       "        text-align: right;\n",
       "    }\n",
       "</style>\n",
       "<table border=\"1\" class=\"dataframe\">\n",
       "  <thead>\n",
       "    <tr style=\"text-align: right;\">\n",
       "      <th></th>\n",
       "      <th>resp</th>\n",
       "      <th>id</th>\n",
       "      <th>district</th>\n",
       "      <th>city</th>\n",
       "      <th>cluster</th>\n",
       "      <th>location</th>\n",
       "      <th>id_hh</th>\n",
       "      <th>s14_id</th>\n",
       "      <th>s14_q1_1</th>\n",
       "      <th>s14_q1_2</th>\n",
       "      <th>...</th>\n",
       "      <th>s14_q16</th>\n",
       "      <th>s14_q17</th>\n",
       "      <th>s14_q18</th>\n",
       "      <th>s14_q19_1</th>\n",
       "      <th>s14_q19_2</th>\n",
       "      <th>s14_q19_3</th>\n",
       "      <th>lp_type</th>\n",
       "      <th>lp_size</th>\n",
       "      <th>lp_eu_region</th>\n",
       "      <th>weight</th>\n",
       "    </tr>\n",
       "  </thead>\n",
       "  <tbody>\n",
       "    <tr>\n",
       "      <th>0</th>\n",
       "      <td>1</td>\n",
       "      <td>244</td>\n",
       "      <td>blagoevgrad</td>\n",
       "      <td>65334</td>\n",
       "      <td>25</td>\n",
       "      <td>urban location</td>\n",
       "      <td>4</td>\n",
       "      <td>1.0</td>\n",
       "      <td>strongly agree</td>\n",
       "      <td>strongly agree</td>\n",
       "      <td>...</td>\n",
       "      <td>less than enough</td>\n",
       "      <td>improve somewhat</td>\n",
       "      <td>40.0</td>\n",
       "      <td>500.0</td>\n",
       "      <td>300.0</td>\n",
       "      <td>100.0</td>\n",
       "      <td>municipality center</td>\n",
       "      <td>20 000 - 49 999</td>\n",
       "      <td>SW</td>\n",
       "      <td>1.148</td>\n",
       "    </tr>\n",
       "    <tr>\n",
       "      <th>1</th>\n",
       "      <td>2</td>\n",
       "      <td>8102</td>\n",
       "      <td>haskovo</td>\n",
       "      <td>77195</td>\n",
       "      <td>805</td>\n",
       "      <td>urban location</td>\n",
       "      <td>2</td>\n",
       "      <td>1.0</td>\n",
       "      <td>agree</td>\n",
       "      <td>agree</td>\n",
       "      <td>...</td>\n",
       "      <td>enough</td>\n",
       "      <td>remain the same</td>\n",
       "      <td>270.0</td>\n",
       "      <td>5000.0</td>\n",
       "      <td>2500.0</td>\n",
       "      <td>200.0</td>\n",
       "      <td>regional center</td>\n",
       "      <td>50 000 - 99 999</td>\n",
       "      <td>SC</td>\n",
       "      <td>0.956</td>\n",
       "    </tr>\n",
       "    <tr>\n",
       "      <th>2</th>\n",
       "      <td>3</td>\n",
       "      <td>2985</td>\n",
       "      <td>lovech</td>\n",
       "      <td>15552</td>\n",
       "      <td>297</td>\n",
       "      <td>rural location</td>\n",
       "      <td>5</td>\n",
       "      <td>1.0</td>\n",
       "      <td>strongly agree</td>\n",
       "      <td>disagree</td>\n",
       "      <td>...</td>\n",
       "      <td>less than enough</td>\n",
       "      <td>remain the same</td>\n",
       "      <td>90.0</td>\n",
       "      <td>400.0</td>\n",
       "      <td>250.0</td>\n",
       "      <td>90.0</td>\n",
       "      <td>common</td>\n",
       "      <td>under 1000</td>\n",
       "      <td>NC</td>\n",
       "      <td>1.148</td>\n",
       "    </tr>\n",
       "    <tr>\n",
       "      <th>3</th>\n",
       "      <td>4</td>\n",
       "      <td>2984</td>\n",
       "      <td>lovech</td>\n",
       "      <td>15552</td>\n",
       "      <td>297</td>\n",
       "      <td>rural location</td>\n",
       "      <td>4</td>\n",
       "      <td>1.0</td>\n",
       "      <td>neither agree nor disagree</td>\n",
       "      <td>neither agree nor disagree</td>\n",
       "      <td>...</td>\n",
       "      <td>enough</td>\n",
       "      <td>remain the same</td>\n",
       "      <td>160.0</td>\n",
       "      <td>500.0</td>\n",
       "      <td>300.0</td>\n",
       "      <td>100.0</td>\n",
       "      <td>common</td>\n",
       "      <td>under 1000</td>\n",
       "      <td>NC</td>\n",
       "      <td>1.148</td>\n",
       "    </tr>\n",
       "    <tr>\n",
       "      <th>4</th>\n",
       "      <td>5</td>\n",
       "      <td>2665</td>\n",
       "      <td>kjistendil</td>\n",
       "      <td>41112</td>\n",
       "      <td>265</td>\n",
       "      <td>urban location</td>\n",
       "      <td>5</td>\n",
       "      <td>1.0</td>\n",
       "      <td>strongly agree</td>\n",
       "      <td>agree</td>\n",
       "      <td>...</td>\n",
       "      <td>less than enough</td>\n",
       "      <td>improve somewhat</td>\n",
       "      <td>153.0</td>\n",
       "      <td>700.0</td>\n",
       "      <td>350.0</td>\n",
       "      <td>200.0</td>\n",
       "      <td>regional center</td>\n",
       "      <td>20 000 - 49 999</td>\n",
       "      <td>SW</td>\n",
       "      <td>1.148</td>\n",
       "    </tr>\n",
       "  </tbody>\n",
       "</table>\n",
       "<p>5 rows × 49 columns</p>\n",
       "</div>"
      ],
      "text/plain": [
       "   resp    id     district   city  cluster        location  id_hh  s14_id  \\\n",
       "0     1   244  blagoevgrad  65334       25  urban location      4     1.0   \n",
       "1     2  8102      haskovo  77195      805  urban location      2     1.0   \n",
       "2     3  2985       lovech  15552      297  rural location      5     1.0   \n",
       "3     4  2984       lovech  15552      297  rural location      4     1.0   \n",
       "4     5  2665   kjistendil  41112      265  urban location      5     1.0   \n",
       "\n",
       "                     s14_q1_1                    s14_q1_2  ...  \\\n",
       "0              strongly agree              strongly agree  ...   \n",
       "1                       agree                       agree  ...   \n",
       "2              strongly agree                    disagree  ...   \n",
       "3  neither agree nor disagree  neither agree nor disagree  ...   \n",
       "4              strongly agree                       agree  ...   \n",
       "\n",
       "            s14_q16           s14_q17 s14_q18 s14_q19_1  s14_q19_2  s14_q19_3  \\\n",
       "0  less than enough  improve somewhat    40.0     500.0      300.0      100.0   \n",
       "1            enough   remain the same   270.0    5000.0     2500.0      200.0   \n",
       "2  less than enough   remain the same    90.0     400.0      250.0       90.0   \n",
       "3            enough   remain the same   160.0     500.0      300.0      100.0   \n",
       "4  less than enough  improve somewhat   153.0     700.0      350.0      200.0   \n",
       "\n",
       "               lp_type          lp_size lp_eu_region  weight  \n",
       "0  municipality center  20 000 - 49 999           SW   1.148  \n",
       "1      regional center  50 000 - 99 999           SC   0.956  \n",
       "2               common       under 1000           NC   1.148  \n",
       "3               common       under 1000           NC   1.148  \n",
       "4      regional center  20 000 - 49 999           SW   1.148  \n",
       "\n",
       "[5 rows x 49 columns]"
      ]
     },
     "execution_count": 26,
     "metadata": {},
     "output_type": "execute_result"
    }
   ],
   "source": [
    "fin.head()"
   ]
  },
  {
   "cell_type": "code",
   "execution_count": 27,
   "metadata": {},
   "outputs": [],
   "source": [
    "fin_use = fin[['id','s14_q13']]"
   ]
  },
  {
   "cell_type": "code",
   "execution_count": 28,
   "metadata": {},
   "outputs": [],
   "source": [
    "fin_use = fin_use.rename(index=str, columns={\"id\": \"id\", \"s14_q13\": \"financial_situation\"})"
   ]
  },
  {
   "cell_type": "code",
   "execution_count": 29,
   "metadata": {},
   "outputs": [
    {
     "data": {
      "text/html": [
       "<div>\n",
       "<style scoped>\n",
       "    .dataframe tbody tr th:only-of-type {\n",
       "        vertical-align: middle;\n",
       "    }\n",
       "\n",
       "    .dataframe tbody tr th {\n",
       "        vertical-align: top;\n",
       "    }\n",
       "\n",
       "    .dataframe thead th {\n",
       "        text-align: right;\n",
       "    }\n",
       "</style>\n",
       "<table border=\"1\" class=\"dataframe\">\n",
       "  <thead>\n",
       "    <tr style=\"text-align: right;\">\n",
       "      <th></th>\n",
       "      <th>id</th>\n",
       "      <th>financial_situation</th>\n",
       "    </tr>\n",
       "  </thead>\n",
       "  <tbody>\n",
       "    <tr>\n",
       "      <th>0</th>\n",
       "      <td>244</td>\n",
       "      <td>poor</td>\n",
       "    </tr>\n",
       "    <tr>\n",
       "      <th>1</th>\n",
       "      <td>8102</td>\n",
       "      <td>poor</td>\n",
       "    </tr>\n",
       "    <tr>\n",
       "      <th>2</th>\n",
       "      <td>2985</td>\n",
       "      <td>poor</td>\n",
       "    </tr>\n",
       "    <tr>\n",
       "      <th>3</th>\n",
       "      <td>2984</td>\n",
       "      <td>poor</td>\n",
       "    </tr>\n",
       "    <tr>\n",
       "      <th>4</th>\n",
       "      <td>2665</td>\n",
       "      <td>poor</td>\n",
       "    </tr>\n",
       "  </tbody>\n",
       "</table>\n",
       "</div>"
      ],
      "text/plain": [
       "     id financial_situation\n",
       "0   244                poor\n",
       "1  8102                poor\n",
       "2  2985                poor\n",
       "3  2984                poor\n",
       "4  2665                poor"
      ]
     },
     "execution_count": 29,
     "metadata": {},
     "output_type": "execute_result"
    }
   ],
   "source": [
    "fin_use.head()"
   ]
  },
  {
   "cell_type": "markdown",
   "metadata": {},
   "source": [
    "## 2. Dataset of interest\n",
    "We use pandas merge function to create a left join between the pen_use and the health_use dataset on the id \n",
    "column as key."
   ]
  },
  {
   "cell_type": "code",
   "execution_count": 30,
   "metadata": {},
   "outputs": [],
   "source": [
    "data_use =  pd.merge(pen_use, health_use, on='id', how='left')"
   ]
  },
  {
   "cell_type": "code",
   "execution_count": 31,
   "metadata": {},
   "outputs": [
    {
     "data": {
      "text/html": [
       "<div>\n",
       "<style scoped>\n",
       "    .dataframe tbody tr th:only-of-type {\n",
       "        vertical-align: middle;\n",
       "    }\n",
       "\n",
       "    .dataframe tbody tr th {\n",
       "        vertical-align: top;\n",
       "    }\n",
       "\n",
       "    .dataframe thead th {\n",
       "        text-align: right;\n",
       "    }\n",
       "</style>\n",
       "<table border=\"1\" class=\"dataframe\">\n",
       "  <thead>\n",
       "    <tr style=\"text-align: right;\">\n",
       "      <th></th>\n",
       "      <th>id</th>\n",
       "      <th>pention1</th>\n",
       "      <th>pention2</th>\n",
       "      <th>pention3</th>\n",
       "      <th>health</th>\n",
       "    </tr>\n",
       "  </thead>\n",
       "  <tbody>\n",
       "    <tr>\n",
       "      <th>0</th>\n",
       "      <td>244</td>\n",
       "      <td>NaN</td>\n",
       "      <td>NaN</td>\n",
       "      <td>NaN</td>\n",
       "      <td>good</td>\n",
       "    </tr>\n",
       "    <tr>\n",
       "      <th>1</th>\n",
       "      <td>244</td>\n",
       "      <td>NaN</td>\n",
       "      <td>NaN</td>\n",
       "      <td>NaN</td>\n",
       "      <td>good</td>\n",
       "    </tr>\n",
       "    <tr>\n",
       "      <th>2</th>\n",
       "      <td>244</td>\n",
       "      <td>NaN</td>\n",
       "      <td>NaN</td>\n",
       "      <td>NaN</td>\n",
       "      <td>good</td>\n",
       "    </tr>\n",
       "    <tr>\n",
       "      <th>3</th>\n",
       "      <td>244</td>\n",
       "      <td>240.0</td>\n",
       "      <td>NaN</td>\n",
       "      <td>NaN</td>\n",
       "      <td>good</td>\n",
       "    </tr>\n",
       "    <tr>\n",
       "      <th>4</th>\n",
       "      <td>244</td>\n",
       "      <td>240.0</td>\n",
       "      <td>NaN</td>\n",
       "      <td>NaN</td>\n",
       "      <td>good</td>\n",
       "    </tr>\n",
       "  </tbody>\n",
       "</table>\n",
       "</div>"
      ],
      "text/plain": [
       "    id  pention1  pention2  pention3 health\n",
       "0  244       NaN       NaN       NaN   good\n",
       "1  244       NaN       NaN       NaN   good\n",
       "2  244       NaN       NaN       NaN   good\n",
       "3  244     240.0       NaN       NaN   good\n",
       "4  244     240.0       NaN       NaN   good"
      ]
     },
     "execution_count": 31,
     "metadata": {},
     "output_type": "execute_result"
    }
   ],
   "source": [
    "data_use.head()"
   ]
  },
  {
   "cell_type": "code",
   "execution_count": 32,
   "metadata": {},
   "outputs": [
    {
     "data": {
      "text/plain": [
       "(43085, 5)"
      ]
     },
     "execution_count": 32,
     "metadata": {},
     "output_type": "execute_result"
    }
   ],
   "source": [
    "data_use.shape"
   ]
  },
  {
   "cell_type": "code",
   "execution_count": 33,
   "metadata": {},
   "outputs": [],
   "source": [
    "data_use = pd.merge(data_use, edu_use, on='id', how='left')"
   ]
  },
  {
   "cell_type": "code",
   "execution_count": 34,
   "metadata": {},
   "outputs": [
    {
     "data": {
      "text/html": [
       "<div>\n",
       "<style scoped>\n",
       "    .dataframe tbody tr th:only-of-type {\n",
       "        vertical-align: middle;\n",
       "    }\n",
       "\n",
       "    .dataframe tbody tr th {\n",
       "        vertical-align: top;\n",
       "    }\n",
       "\n",
       "    .dataframe thead th {\n",
       "        text-align: right;\n",
       "    }\n",
       "</style>\n",
       "<table border=\"1\" class=\"dataframe\">\n",
       "  <thead>\n",
       "    <tr style=\"text-align: right;\">\n",
       "      <th></th>\n",
       "      <th>id</th>\n",
       "      <th>pention1</th>\n",
       "      <th>pention2</th>\n",
       "      <th>pention3</th>\n",
       "      <th>health</th>\n",
       "      <th>education</th>\n",
       "    </tr>\n",
       "  </thead>\n",
       "  <tbody>\n",
       "    <tr>\n",
       "      <th>0</th>\n",
       "      <td>244</td>\n",
       "      <td>NaN</td>\n",
       "      <td>NaN</td>\n",
       "      <td>NaN</td>\n",
       "      <td>good</td>\n",
       "      <td>initial</td>\n",
       "    </tr>\n",
       "    <tr>\n",
       "      <th>1</th>\n",
       "      <td>244</td>\n",
       "      <td>NaN</td>\n",
       "      <td>NaN</td>\n",
       "      <td>NaN</td>\n",
       "      <td>good</td>\n",
       "      <td>not finished initial</td>\n",
       "    </tr>\n",
       "    <tr>\n",
       "      <th>2</th>\n",
       "      <td>244</td>\n",
       "      <td>NaN</td>\n",
       "      <td>NaN</td>\n",
       "      <td>NaN</td>\n",
       "      <td>good</td>\n",
       "      <td>not finished initial</td>\n",
       "    </tr>\n",
       "    <tr>\n",
       "      <th>3</th>\n",
       "      <td>244</td>\n",
       "      <td>NaN</td>\n",
       "      <td>NaN</td>\n",
       "      <td>NaN</td>\n",
       "      <td>good</td>\n",
       "      <td>initial</td>\n",
       "    </tr>\n",
       "    <tr>\n",
       "      <th>4</th>\n",
       "      <td>244</td>\n",
       "      <td>NaN</td>\n",
       "      <td>NaN</td>\n",
       "      <td>NaN</td>\n",
       "      <td>good</td>\n",
       "      <td>not finished initial</td>\n",
       "    </tr>\n",
       "  </tbody>\n",
       "</table>\n",
       "</div>"
      ],
      "text/plain": [
       "    id  pention1  pention2  pention3 health                         education\n",
       "0  244       NaN       NaN       NaN   good  initial                         \n",
       "1  244       NaN       NaN       NaN   good              not finished initial\n",
       "2  244       NaN       NaN       NaN   good              not finished initial\n",
       "3  244       NaN       NaN       NaN   good  initial                         \n",
       "4  244       NaN       NaN       NaN   good              not finished initial"
      ]
     },
     "execution_count": 34,
     "metadata": {},
     "output_type": "execute_result"
    }
   ],
   "source": [
    "data_use.head()"
   ]
  },
  {
   "cell_type": "code",
   "execution_count": 35,
   "metadata": {},
   "outputs": [
    {
     "data": {
      "text/plain": [
       "(168968, 6)"
      ]
     },
     "execution_count": 35,
     "metadata": {},
     "output_type": "execute_result"
    }
   ],
   "source": [
    "data_use.shape"
   ]
  },
  {
   "cell_type": "code",
   "execution_count": 36,
   "metadata": {},
   "outputs": [],
   "source": [
    "data_use = pd.merge(data_use, fin_use, on='id', how='left')"
   ]
  },
  {
   "cell_type": "code",
   "execution_count": 37,
   "metadata": {},
   "outputs": [
    {
     "data": {
      "text/plain": [
       "(168995, 7)"
      ]
     },
     "execution_count": 37,
     "metadata": {},
     "output_type": "execute_result"
    }
   ],
   "source": [
    "data_use.shape"
   ]
  },
  {
   "cell_type": "markdown",
   "metadata": {},
   "source": [
    "Now we see a preview of the final dataset."
   ]
  },
  {
   "cell_type": "code",
   "execution_count": 38,
   "metadata": {},
   "outputs": [
    {
     "data": {
      "text/html": [
       "<div>\n",
       "<style scoped>\n",
       "    .dataframe tbody tr th:only-of-type {\n",
       "        vertical-align: middle;\n",
       "    }\n",
       "\n",
       "    .dataframe tbody tr th {\n",
       "        vertical-align: top;\n",
       "    }\n",
       "\n",
       "    .dataframe thead th {\n",
       "        text-align: right;\n",
       "    }\n",
       "</style>\n",
       "<table border=\"1\" class=\"dataframe\">\n",
       "  <thead>\n",
       "    <tr style=\"text-align: right;\">\n",
       "      <th></th>\n",
       "      <th>id</th>\n",
       "      <th>pention1</th>\n",
       "      <th>pention2</th>\n",
       "      <th>pention3</th>\n",
       "      <th>health</th>\n",
       "      <th>education</th>\n",
       "      <th>financial_situation</th>\n",
       "    </tr>\n",
       "  </thead>\n",
       "  <tbody>\n",
       "    <tr>\n",
       "      <th>0</th>\n",
       "      <td>244</td>\n",
       "      <td>NaN</td>\n",
       "      <td>NaN</td>\n",
       "      <td>NaN</td>\n",
       "      <td>good</td>\n",
       "      <td>initial</td>\n",
       "      <td>poor</td>\n",
       "    </tr>\n",
       "    <tr>\n",
       "      <th>1</th>\n",
       "      <td>244</td>\n",
       "      <td>NaN</td>\n",
       "      <td>NaN</td>\n",
       "      <td>NaN</td>\n",
       "      <td>good</td>\n",
       "      <td>not finished initial</td>\n",
       "      <td>poor</td>\n",
       "    </tr>\n",
       "    <tr>\n",
       "      <th>2</th>\n",
       "      <td>244</td>\n",
       "      <td>NaN</td>\n",
       "      <td>NaN</td>\n",
       "      <td>NaN</td>\n",
       "      <td>good</td>\n",
       "      <td>not finished initial</td>\n",
       "      <td>poor</td>\n",
       "    </tr>\n",
       "    <tr>\n",
       "      <th>3</th>\n",
       "      <td>244</td>\n",
       "      <td>NaN</td>\n",
       "      <td>NaN</td>\n",
       "      <td>NaN</td>\n",
       "      <td>good</td>\n",
       "      <td>initial</td>\n",
       "      <td>poor</td>\n",
       "    </tr>\n",
       "    <tr>\n",
       "      <th>4</th>\n",
       "      <td>244</td>\n",
       "      <td>NaN</td>\n",
       "      <td>NaN</td>\n",
       "      <td>NaN</td>\n",
       "      <td>good</td>\n",
       "      <td>not finished initial</td>\n",
       "      <td>poor</td>\n",
       "    </tr>\n",
       "  </tbody>\n",
       "</table>\n",
       "</div>"
      ],
      "text/plain": [
       "    id  pention1  pention2  pention3 health                         education  \\\n",
       "0  244       NaN       NaN       NaN   good  initial                            \n",
       "1  244       NaN       NaN       NaN   good              not finished initial   \n",
       "2  244       NaN       NaN       NaN   good              not finished initial   \n",
       "3  244       NaN       NaN       NaN   good  initial                            \n",
       "4  244       NaN       NaN       NaN   good              not finished initial   \n",
       "\n",
       "  financial_situation  \n",
       "0                poor  \n",
       "1                poor  \n",
       "2                poor  \n",
       "3                poor  \n",
       "4                poor  "
      ]
     },
     "execution_count": 38,
     "metadata": {},
     "output_type": "execute_result"
    }
   ],
   "source": [
    "data_use.head()"
   ]
  },
  {
   "cell_type": "markdown",
   "metadata": {},
   "source": [
    "## 3. Data prep\n",
    "Below we use the describe function to get the descriptive statistics of the numerical data."
   ]
  },
  {
   "cell_type": "code",
   "execution_count": 39,
   "metadata": {},
   "outputs": [
    {
     "data": {
      "text/html": [
       "<div>\n",
       "<style scoped>\n",
       "    .dataframe tbody tr th:only-of-type {\n",
       "        vertical-align: middle;\n",
       "    }\n",
       "\n",
       "    .dataframe tbody tr th {\n",
       "        vertical-align: top;\n",
       "    }\n",
       "\n",
       "    .dataframe thead th {\n",
       "        text-align: right;\n",
       "    }\n",
       "</style>\n",
       "<table border=\"1\" class=\"dataframe\">\n",
       "  <thead>\n",
       "    <tr style=\"text-align: right;\">\n",
       "      <th></th>\n",
       "      <th>id</th>\n",
       "      <th>pention1</th>\n",
       "      <th>pention2</th>\n",
       "      <th>pention3</th>\n",
       "    </tr>\n",
       "  </thead>\n",
       "  <tbody>\n",
       "    <tr>\n",
       "      <th>count</th>\n",
       "      <td>168995.000000</td>\n",
       "      <td>52470.000000</td>\n",
       "      <td>10033.000000</td>\n",
       "      <td>1221.000000</td>\n",
       "    </tr>\n",
       "    <tr>\n",
       "      <th>mean</th>\n",
       "      <td>4339.347720</td>\n",
       "      <td>1213.292834</td>\n",
       "      <td>380.882288</td>\n",
       "      <td>258.638002</td>\n",
       "    </tr>\n",
       "    <tr>\n",
       "      <th>std</th>\n",
       "      <td>2497.386079</td>\n",
       "      <td>861.293243</td>\n",
       "      <td>422.236855</td>\n",
       "      <td>197.779505</td>\n",
       "    </tr>\n",
       "    <tr>\n",
       "      <th>min</th>\n",
       "      <td>1.000000</td>\n",
       "      <td>18.000000</td>\n",
       "      <td>12.000000</td>\n",
       "      <td>8.000000</td>\n",
       "    </tr>\n",
       "    <tr>\n",
       "      <th>25%</th>\n",
       "      <td>2163.000000</td>\n",
       "      <td>456.000000</td>\n",
       "      <td>192.000000</td>\n",
       "      <td>170.000000</td>\n",
       "    </tr>\n",
       "    <tr>\n",
       "      <th>50%</th>\n",
       "      <td>4352.000000</td>\n",
       "      <td>1150.000000</td>\n",
       "      <td>240.000000</td>\n",
       "      <td>200.000000</td>\n",
       "    </tr>\n",
       "    <tr>\n",
       "      <th>75%</th>\n",
       "      <td>6505.000000</td>\n",
       "      <td>1600.000000</td>\n",
       "      <td>432.000000</td>\n",
       "      <td>250.000000</td>\n",
       "    </tr>\n",
       "    <tr>\n",
       "      <th>max</th>\n",
       "      <td>8941.000000</td>\n",
       "      <td>9999.000000</td>\n",
       "      <td>9999.000000</td>\n",
       "      <td>1800.000000</td>\n",
       "    </tr>\n",
       "  </tbody>\n",
       "</table>\n",
       "</div>"
      ],
      "text/plain": [
       "                  id      pention1      pention2     pention3\n",
       "count  168995.000000  52470.000000  10033.000000  1221.000000\n",
       "mean     4339.347720   1213.292834    380.882288   258.638002\n",
       "std      2497.386079    861.293243    422.236855   197.779505\n",
       "min         1.000000     18.000000     12.000000     8.000000\n",
       "25%      2163.000000    456.000000    192.000000   170.000000\n",
       "50%      4352.000000   1150.000000    240.000000   200.000000\n",
       "75%      6505.000000   1600.000000    432.000000   250.000000\n",
       "max      8941.000000   9999.000000   9999.000000  1800.000000"
      ]
     },
     "execution_count": 39,
     "metadata": {},
     "output_type": "execute_result"
    }
   ],
   "source": [
    "data_use.describe()"
   ]
  },
  {
   "cell_type": "markdown",
   "metadata": {},
   "source": [
    "We use the info function to get the number of non-null values of the columns. pention2 and pention3 have a lot of\n",
    "null values and will be subsequently dropped."
   ]
  },
  {
   "cell_type": "code",
   "execution_count": 40,
   "metadata": {},
   "outputs": [
    {
     "name": "stdout",
     "output_type": "stream",
     "text": [
      "<class 'pandas.core.frame.DataFrame'>\n",
      "Int64Index: 168995 entries, 0 to 168994\n",
      "Data columns (total 7 columns):\n",
      "id                     168995 non-null int16\n",
      "pention1               52470 non-null float64\n",
      "pention2               10033 non-null float64\n",
      "pention3               1221 non-null float64\n",
      "health                 168995 non-null category\n",
      "education              168995 non-null category\n",
      "financial_situation    168820 non-null category\n",
      "dtypes: category(3), float64(3), int16(1)\n",
      "memory usage: 6.0 MB\n"
     ]
    }
   ],
   "source": [
    "data_use.info()"
   ]
  },
  {
   "cell_type": "code",
   "execution_count": 41,
   "metadata": {},
   "outputs": [],
   "source": [
    "data_use = data_use[['pention1', 'health','education', 'financial_situation']]"
   ]
  },
  {
   "cell_type": "code",
   "execution_count": 42,
   "metadata": {},
   "outputs": [
    {
     "name": "stdout",
     "output_type": "stream",
     "text": [
      "<class 'pandas.core.frame.DataFrame'>\n",
      "Int64Index: 168995 entries, 0 to 168994\n",
      "Data columns (total 4 columns):\n",
      "pention1               52470 non-null float64\n",
      "health                 168995 non-null category\n",
      "education              168995 non-null category\n",
      "financial_situation    168820 non-null category\n",
      "dtypes: category(3), float64(1)\n",
      "memory usage: 3.1 MB\n"
     ]
    }
   ],
   "source": [
    "data_use.info()"
   ]
  },
  {
   "cell_type": "markdown",
   "metadata": {},
   "source": [
    "All null values are dropped. We are left with 52392 rows and 4 columns."
   ]
  },
  {
   "cell_type": "code",
   "execution_count": 43,
   "metadata": {},
   "outputs": [],
   "source": [
    "data_use = data_use.dropna()"
   ]
  },
  {
   "cell_type": "code",
   "execution_count": 44,
   "metadata": {},
   "outputs": [
    {
     "data": {
      "text/plain": [
       "(52392, 4)"
      ]
     },
     "execution_count": 44,
     "metadata": {},
     "output_type": "execute_result"
    }
   ],
   "source": [
    "data_use.shape"
   ]
  },
  {
   "cell_type": "code",
   "execution_count": 45,
   "metadata": {},
   "outputs": [
    {
     "name": "stdout",
     "output_type": "stream",
     "text": [
      "<class 'pandas.core.frame.DataFrame'>\n",
      "Int64Index: 52392 entries, 9 to 168993\n",
      "Data columns (total 4 columns):\n",
      "pention1               52392 non-null float64\n",
      "health                 52392 non-null category\n",
      "education              52392 non-null category\n",
      "financial_situation    52392 non-null category\n",
      "dtypes: category(3), float64(1)\n",
      "memory usage: 972.9 KB\n"
     ]
    }
   ],
   "source": [
    "data_use.info()"
   ]
  },
  {
   "cell_type": "code",
   "execution_count": 46,
   "metadata": {},
   "outputs": [
    {
     "data": {
      "text/html": [
       "<div>\n",
       "<style scoped>\n",
       "    .dataframe tbody tr th:only-of-type {\n",
       "        vertical-align: middle;\n",
       "    }\n",
       "\n",
       "    .dataframe tbody tr th {\n",
       "        vertical-align: top;\n",
       "    }\n",
       "\n",
       "    .dataframe thead th {\n",
       "        text-align: right;\n",
       "    }\n",
       "</style>\n",
       "<table border=\"1\" class=\"dataframe\">\n",
       "  <thead>\n",
       "    <tr style=\"text-align: right;\">\n",
       "      <th></th>\n",
       "      <th>pention1</th>\n",
       "      <th>health</th>\n",
       "      <th>education</th>\n",
       "      <th>financial_situation</th>\n",
       "    </tr>\n",
       "  </thead>\n",
       "  <tbody>\n",
       "    <tr>\n",
       "      <th>9</th>\n",
       "      <td>240.0</td>\n",
       "      <td>good</td>\n",
       "      <td>initial</td>\n",
       "      <td>poor</td>\n",
       "    </tr>\n",
       "    <tr>\n",
       "      <th>10</th>\n",
       "      <td>240.0</td>\n",
       "      <td>good</td>\n",
       "      <td>not finished initial</td>\n",
       "      <td>poor</td>\n",
       "    </tr>\n",
       "    <tr>\n",
       "      <th>11</th>\n",
       "      <td>240.0</td>\n",
       "      <td>good</td>\n",
       "      <td>not finished initial</td>\n",
       "      <td>poor</td>\n",
       "    </tr>\n",
       "    <tr>\n",
       "      <th>12</th>\n",
       "      <td>240.0</td>\n",
       "      <td>good</td>\n",
       "      <td>initial</td>\n",
       "      <td>poor</td>\n",
       "    </tr>\n",
       "    <tr>\n",
       "      <th>13</th>\n",
       "      <td>240.0</td>\n",
       "      <td>good</td>\n",
       "      <td>not finished initial</td>\n",
       "      <td>poor</td>\n",
       "    </tr>\n",
       "  </tbody>\n",
       "</table>\n",
       "</div>"
      ],
      "text/plain": [
       "    pention1 health                         education financial_situation\n",
       "9      240.0   good  initial                                         poor\n",
       "10     240.0   good              not finished initial                poor\n",
       "11     240.0   good              not finished initial                poor\n",
       "12     240.0   good  initial                                         poor\n",
       "13     240.0   good              not finished initial                poor"
      ]
     },
     "execution_count": 46,
     "metadata": {},
     "output_type": "execute_result"
    }
   ],
   "source": [
    "data_use.head()"
   ]
  },
  {
   "cell_type": "markdown",
   "metadata": {},
   "source": [
    "The below code is commented out. It is used to export the data to a csv file."
   ]
  },
  {
   "cell_type": "code",
   "execution_count": 47,
   "metadata": {},
   "outputs": [],
   "source": [
    "#data_use.to_csv('data_use.csv')"
   ]
  },
  {
   "cell_type": "markdown",
   "metadata": {},
   "source": [
    "Dummy variables are being created and the original columns have been dropped."
   ]
  },
  {
   "cell_type": "code",
   "execution_count": 48,
   "metadata": {},
   "outputs": [],
   "source": [
    "data_final = pd.concat([data_use.drop(['health', 'education', 'financial_situation'], axis=1),\n",
    "                        pd.get_dummies(data_use[['health', 'education', 'financial_situation']])], axis = 1)"
   ]
  },
  {
   "cell_type": "code",
   "execution_count": 49,
   "metadata": {},
   "outputs": [
    {
     "data": {
      "text/html": [
       "<div>\n",
       "<style scoped>\n",
       "    .dataframe tbody tr th:only-of-type {\n",
       "        vertical-align: middle;\n",
       "    }\n",
       "\n",
       "    .dataframe tbody tr th {\n",
       "        vertical-align: top;\n",
       "    }\n",
       "\n",
       "    .dataframe thead th {\n",
       "        text-align: right;\n",
       "    }\n",
       "</style>\n",
       "<table border=\"1\" class=\"dataframe\">\n",
       "  <thead>\n",
       "    <tr style=\"text-align: right;\">\n",
       "      <th></th>\n",
       "      <th>pention1</th>\n",
       "      <th>health_excellent</th>\n",
       "      <th>health_good</th>\n",
       "      <th>health_satisfactory</th>\n",
       "      <th>health_poor</th>\n",
       "      <th>health_don't know</th>\n",
       "      <th>education_higher, ph.d.</th>\n",
       "      <th>education_higher, master</th>\n",
       "      <th>education_higher, bachelor</th>\n",
       "      <th>education_higher, specialist</th>\n",
       "      <th>...</th>\n",
       "      <th>education_vocational-technical</th>\n",
       "      <th>education_primary</th>\n",
       "      <th>education_initial</th>\n",
       "      <th>education_not finished initial</th>\n",
       "      <th>education_never been to school</th>\n",
       "      <th>financial_situation_very poor</th>\n",
       "      <th>financial_situation_poor</th>\n",
       "      <th>financial_situation_good</th>\n",
       "      <th>financial_situation_very good</th>\n",
       "      <th>financial_situation_rich</th>\n",
       "    </tr>\n",
       "  </thead>\n",
       "  <tbody>\n",
       "    <tr>\n",
       "      <th>9</th>\n",
       "      <td>240.0</td>\n",
       "      <td>0</td>\n",
       "      <td>1</td>\n",
       "      <td>0</td>\n",
       "      <td>0</td>\n",
       "      <td>0</td>\n",
       "      <td>0</td>\n",
       "      <td>0</td>\n",
       "      <td>0</td>\n",
       "      <td>0</td>\n",
       "      <td>...</td>\n",
       "      <td>0</td>\n",
       "      <td>0</td>\n",
       "      <td>1</td>\n",
       "      <td>0</td>\n",
       "      <td>0</td>\n",
       "      <td>0</td>\n",
       "      <td>1</td>\n",
       "      <td>0</td>\n",
       "      <td>0</td>\n",
       "      <td>0</td>\n",
       "    </tr>\n",
       "    <tr>\n",
       "      <th>10</th>\n",
       "      <td>240.0</td>\n",
       "      <td>0</td>\n",
       "      <td>1</td>\n",
       "      <td>0</td>\n",
       "      <td>0</td>\n",
       "      <td>0</td>\n",
       "      <td>0</td>\n",
       "      <td>0</td>\n",
       "      <td>0</td>\n",
       "      <td>0</td>\n",
       "      <td>...</td>\n",
       "      <td>0</td>\n",
       "      <td>0</td>\n",
       "      <td>0</td>\n",
       "      <td>1</td>\n",
       "      <td>0</td>\n",
       "      <td>0</td>\n",
       "      <td>1</td>\n",
       "      <td>0</td>\n",
       "      <td>0</td>\n",
       "      <td>0</td>\n",
       "    </tr>\n",
       "    <tr>\n",
       "      <th>11</th>\n",
       "      <td>240.0</td>\n",
       "      <td>0</td>\n",
       "      <td>1</td>\n",
       "      <td>0</td>\n",
       "      <td>0</td>\n",
       "      <td>0</td>\n",
       "      <td>0</td>\n",
       "      <td>0</td>\n",
       "      <td>0</td>\n",
       "      <td>0</td>\n",
       "      <td>...</td>\n",
       "      <td>0</td>\n",
       "      <td>0</td>\n",
       "      <td>0</td>\n",
       "      <td>1</td>\n",
       "      <td>0</td>\n",
       "      <td>0</td>\n",
       "      <td>1</td>\n",
       "      <td>0</td>\n",
       "      <td>0</td>\n",
       "      <td>0</td>\n",
       "    </tr>\n",
       "    <tr>\n",
       "      <th>12</th>\n",
       "      <td>240.0</td>\n",
       "      <td>0</td>\n",
       "      <td>1</td>\n",
       "      <td>0</td>\n",
       "      <td>0</td>\n",
       "      <td>0</td>\n",
       "      <td>0</td>\n",
       "      <td>0</td>\n",
       "      <td>0</td>\n",
       "      <td>0</td>\n",
       "      <td>...</td>\n",
       "      <td>0</td>\n",
       "      <td>0</td>\n",
       "      <td>1</td>\n",
       "      <td>0</td>\n",
       "      <td>0</td>\n",
       "      <td>0</td>\n",
       "      <td>1</td>\n",
       "      <td>0</td>\n",
       "      <td>0</td>\n",
       "      <td>0</td>\n",
       "    </tr>\n",
       "    <tr>\n",
       "      <th>13</th>\n",
       "      <td>240.0</td>\n",
       "      <td>0</td>\n",
       "      <td>1</td>\n",
       "      <td>0</td>\n",
       "      <td>0</td>\n",
       "      <td>0</td>\n",
       "      <td>0</td>\n",
       "      <td>0</td>\n",
       "      <td>0</td>\n",
       "      <td>0</td>\n",
       "      <td>...</td>\n",
       "      <td>0</td>\n",
       "      <td>0</td>\n",
       "      <td>0</td>\n",
       "      <td>1</td>\n",
       "      <td>0</td>\n",
       "      <td>0</td>\n",
       "      <td>1</td>\n",
       "      <td>0</td>\n",
       "      <td>0</td>\n",
       "      <td>0</td>\n",
       "    </tr>\n",
       "  </tbody>\n",
       "</table>\n",
       "<p>5 rows × 23 columns</p>\n",
       "</div>"
      ],
      "text/plain": [
       "    pention1  health_excellent  health_good  health_satisfactory  health_poor  \\\n",
       "9      240.0                 0            1                    0            0   \n",
       "10     240.0                 0            1                    0            0   \n",
       "11     240.0                 0            1                    0            0   \n",
       "12     240.0                 0            1                    0            0   \n",
       "13     240.0                 0            1                    0            0   \n",
       "\n",
       "    health_don't know  education_higher, ph.d.                     \\\n",
       "9                   0                                           0   \n",
       "10                  0                                           0   \n",
       "11                  0                                           0   \n",
       "12                  0                                           0   \n",
       "13                  0                                           0   \n",
       "\n",
       "    education_higher, master                    \\\n",
       "9                                            0   \n",
       "10                                           0   \n",
       "11                                           0   \n",
       "12                                           0   \n",
       "13                                           0   \n",
       "\n",
       "    education_higher, bachelor                  \\\n",
       "9                                            0   \n",
       "10                                           0   \n",
       "11                                           0   \n",
       "12                                           0   \n",
       "13                                           0   \n",
       "\n",
       "    education_higher, specialist                ...  \\\n",
       "9                                            0  ...   \n",
       "10                                           0  ...   \n",
       "11                                           0  ...   \n",
       "12                                           0  ...   \n",
       "13                                           0  ...   \n",
       "\n",
       "    education_vocational-technical              \\\n",
       "9                                            0   \n",
       "10                                           0   \n",
       "11                                           0   \n",
       "12                                           0   \n",
       "13                                           0   \n",
       "\n",
       "    education_primary                           \\\n",
       "9                                            0   \n",
       "10                                           0   \n",
       "11                                           0   \n",
       "12                                           0   \n",
       "13                                           0   \n",
       "\n",
       "    education_initial                           \\\n",
       "9                                            1   \n",
       "10                                           0   \n",
       "11                                           0   \n",
       "12                                           1   \n",
       "13                                           0   \n",
       "\n",
       "    education_not finished initial  education_never been to school  \\\n",
       "9                                0                               0   \n",
       "10                               1                               0   \n",
       "11                               1                               0   \n",
       "12                               0                               0   \n",
       "13                               1                               0   \n",
       "\n",
       "    financial_situation_very poor  financial_situation_poor  \\\n",
       "9                               0                         1   \n",
       "10                              0                         1   \n",
       "11                              0                         1   \n",
       "12                              0                         1   \n",
       "13                              0                         1   \n",
       "\n",
       "    financial_situation_good  financial_situation_very good  \\\n",
       "9                          0                              0   \n",
       "10                         0                              0   \n",
       "11                         0                              0   \n",
       "12                         0                              0   \n",
       "13                         0                              0   \n",
       "\n",
       "    financial_situation_rich  \n",
       "9                          0  \n",
       "10                         0  \n",
       "11                         0  \n",
       "12                         0  \n",
       "13                         0  \n",
       "\n",
       "[5 rows x 23 columns]"
      ]
     },
     "execution_count": 49,
     "metadata": {},
     "output_type": "execute_result"
    }
   ],
   "source": [
    "data_final.head()"
   ]
  },
  {
   "cell_type": "code",
   "execution_count": 50,
   "metadata": {},
   "outputs": [],
   "source": [
    "#data_final.to_csv('data_final.csv')"
   ]
  },
  {
   "cell_type": "markdown",
   "metadata": {},
   "source": [
    "## 4. Exploratory Data Analysis (EDA)\n",
    "Below we can see the unique values at the columns and their absolute frequencies as well as the data type."
   ]
  },
  {
   "cell_type": "code",
   "execution_count": 51,
   "metadata": {},
   "outputs": [
    {
     "data": {
      "text/plain": [
       "[poor, very poor, good, very good, rich]\n",
       "Categories (5, object): [very poor < poor < good < very good < rich]"
      ]
     },
     "execution_count": 51,
     "metadata": {},
     "output_type": "execute_result"
    }
   ],
   "source": [
    "data_use['financial_situation'].unique()"
   ]
  },
  {
   "cell_type": "code",
   "execution_count": 52,
   "metadata": {},
   "outputs": [
    {
     "data": {
      "text/plain": [
       "poor         22475\n",
       "good         19222\n",
       "very poor     9858\n",
       "very good      804\n",
       "rich            33\n",
       "Name: financial_situation, dtype: int64"
      ]
     },
     "execution_count": 52,
     "metadata": {},
     "output_type": "execute_result"
    }
   ],
   "source": [
    "data_use['financial_situation'].value_counts()"
   ]
  },
  {
   "cell_type": "code",
   "execution_count": 53,
   "metadata": {},
   "outputs": [
    {
     "data": {
      "text/plain": [
       "primary                             16432\n",
       "secondary specialized                7404\n",
       "initial                              6487\n",
       "secondary vocational-technical       5291\n",
       "secondary                            4808\n",
       "not finished initial                 3672\n",
       "higher, master                       2825\n",
       "vocational-technical                 1545\n",
       "never been to school                 1311\n",
       "higher, specialist                   1194\n",
       "higher, bachelor                     1193\n",
       "higher, ph.d.                         230\n",
       "Name: education, dtype: int64"
      ]
     },
     "execution_count": 53,
     "metadata": {},
     "output_type": "execute_result"
    }
   ],
   "source": [
    "data_use['education'].value_counts()"
   ]
  },
  {
   "cell_type": "code",
   "execution_count": 54,
   "metadata": {},
   "outputs": [
    {
     "data": {
      "text/plain": [
       "good            23970\n",
       "excellent       11339\n",
       "satisfactory    10175\n",
       "poor             6888\n",
       "don't know         20\n",
       "Name: health, dtype: int64"
      ]
     },
     "execution_count": 54,
     "metadata": {},
     "output_type": "execute_result"
    }
   ],
   "source": [
    "data_use['health'].value_counts()"
   ]
  },
  {
   "cell_type": "code",
   "execution_count": 55,
   "metadata": {},
   "outputs": [
    {
     "data": {
      "text/plain": [
       "count    52392.000000\n",
       "mean      1213.478718\n",
       "std        861.250591\n",
       "min         18.000000\n",
       "25%        456.000000\n",
       "50%       1150.000000\n",
       "75%       1596.000000\n",
       "max       9999.000000\n",
       "Name: pention1, dtype: float64"
      ]
     },
     "execution_count": 55,
     "metadata": {},
     "output_type": "execute_result"
    }
   ],
   "source": [
    "data_use['pention1'].describe()"
   ]
  },
  {
   "cell_type": "markdown",
   "metadata": {},
   "source": [
    "It is time for data visualization for better understanding. Most of the people are poor or very poor."
   ]
  },
  {
   "cell_type": "code",
   "execution_count": 56,
   "metadata": {},
   "outputs": [
    {
     "data": {
      "image/png": "[encoded data removed]",
      "text/plain": [
       "<Figure size 1440x720 with 1 Axes>"
      ]
     },
     "metadata": {
      "needs_background": "light"
     },
     "output_type": "display_data"
    }
   ],
   "source": [
    "plt.figure(figsize=(20,10))\n",
    "plt.style.use('seaborn-ticks')\n",
    "plt.bar(data_use['financial_situation'].unique(), data_use['financial_situation'].value_counts())\n",
    "plt.xlabel('Financial_situation').set_fontsize(30)\n",
    "plt.ylabel('Numbers').set_fontsize(30)\n",
    "plt.title('Distribution of people based on their financial situation').set_fontsize(30)\n",
    "plt.xticks(rotation=0, fontsize=20)\n",
    "plt.grid()\n",
    "plt.show()"
   ]
  },
  {
   "cell_type": "code",
   "execution_count": 57,
   "metadata": {},
   "outputs": [
    {
     "data": {
      "image/png": "[encoded data removed]",
      "text/plain": [
       "<Figure size 1440x720 with 1 Axes>"
      ]
     },
     "metadata": {},
     "output_type": "display_data"
    }
   ],
   "source": [
    "plt.figure(figsize=(20,10))\n",
    "plt.style.use('seaborn-ticks')\n",
    "plt.bar(data_use['education'].unique(), data_use['education'].value_counts())\n",
    "plt.xlabel('Education level').set_fontsize(20)\n",
    "plt.ylabel('Numbers').set_fontsize(30)\n",
    "plt.title('Distribution of people based on their education level').set_fontsize(30)\n",
    "plt.xticks(rotation=-60, fontsize=18)\n",
    "plt.grid()\n",
    "plt.show()"
   ]
  },
  {
   "cell_type": "markdown",
   "metadata": {},
   "source": [
    "Large number of people have very basic or average education levels."
   ]
  },
  {
   "cell_type": "code",
   "execution_count": 58,
   "metadata": {},
   "outputs": [
    {
     "data": {
      "image/png": "[encoded data removed]",
      "text/plain": [
       "<Figure size 1440x720 with 1 Axes>"
      ]
     },
     "metadata": {},
     "output_type": "display_data"
    }
   ],
   "source": [
    "plt.figure(figsize=(20,10))\n",
    "plt.style.use('seaborn-ticks')\n",
    "plt.bar(data_use['health'].unique(), data_use['health'].value_counts())\n",
    "plt.xlabel('Health Status').set_fontsize(20)\n",
    "plt.ylabel('Numbers').set_fontsize(30)\n",
    "plt.title('Distribution of people based on their health status').set_fontsize(30)\n",
    "plt.xticks(rotation=-60, fontsize=20)\n",
    "plt.grid()\n",
    "plt.show()"
   ]
  },
  {
   "cell_type": "markdown",
   "metadata": {},
   "source": [
    "Most people consider their health status as good."
   ]
  },
  {
   "cell_type": "code",
   "execution_count": 59,
   "metadata": {},
   "outputs": [
    {
     "data": {
      "image/png": "[encoded data removed]",
      "text/plain": [
       "<Figure size 1440x720 with 1 Axes>"
      ]
     },
     "metadata": {},
     "output_type": "display_data"
    }
   ],
   "source": [
    "plt.figure(figsize=(20,10))\n",
    "plt.style.use('seaborn-ticks')\n",
    "plt.hist(data_use['pention1'], alpha=0.7, rwidth=0.99)\n",
    "plt.xlabel('Value').set_fontsize(30)\n",
    "plt.ylabel('Numbers').set_fontsize(30)\n",
    "plt.title('Histogram of Pentions').set_fontsize(30)\n",
    "plt.xticks(rotation=0, fontsize=20)\n",
    "plt.grid()\n",
    "plt.show()"
   ]
  },
  {
   "cell_type": "markdown",
   "metadata": {},
   "source": [
    "We see a concentration of low pensions of people. The distribution seem somewhat similar to the beta distribution with parameters $\\alpha = 2$  and  $\\beta = 5$"
   ]
  },
  {
   "cell_type": "markdown",
   "metadata": {},
   "source": [
    "## 5. Modeling and Hypothesis Testing\n",
    "We will use a one way ANOVA to test if there is any relationship between the predictors and the dependent variable the pension.\n",
    "<br>\n",
    "The Null hypothesis H0 is that the distributions are the same, so there is no relationship.\n",
    "<br>\n",
    "The alternative hypothesis Ha is that there is a difference, so there is a relationships.\n",
    "For more information on the topic view this link:\n",
    "https://en.wikipedia.org/wiki/One-way_analysis_of_variance"
   ]
  },
  {
   "cell_type": "code",
   "execution_count": 60,
   "metadata": {},
   "outputs": [],
   "source": [
    "df_anova = data_use[['pention1', 'health']]\n",
    "grps = pd.unique(df_anova.health.values)\n",
    "d_data = {grp:df_anova['pention1'][df_anova.health == grp] for grp in grps}"
   ]
  },
  {
   "cell_type": "code",
   "execution_count": 61,
   "metadata": {},
   "outputs": [
    {
     "name": "stdout",
     "output_type": "stream",
     "text": [
      "P-value for significance is:  0.0\n",
      "Reject null hypothesis\n"
     ]
    }
   ],
   "source": [
    "F, p = stats.f_oneway(d_data['good'], d_data['excellent'], d_data['excellent'], d_data['satisfactory'],\n",
    "                      d_data['poor'],d_data[\"don't know\"])\n",
    "print(\"P-value for significance is: \", p)\n",
    "if p<0.05:\n",
    "    print(\"Reject null hypothesis\")\n",
    "else:\n",
    "    print(\"Accept null hypothesis\")"
   ]
  },
  {
   "cell_type": "code",
   "execution_count": 62,
   "metadata": {},
   "outputs": [],
   "source": [
    "df_anova = data_use[['pention1', 'education']]\n",
    "grps = pd.unique(df_anova.education.values)\n",
    "d_data = {grp:df_anova['pention1'][df_anova.education == grp] for grp in grps}"
   ]
  },
  {
   "cell_type": "code",
   "execution_count": 63,
   "metadata": {},
   "outputs": [
    {
     "name": "stdout",
     "output_type": "stream",
     "text": [
      "P-value for significance is:  0.0\n",
      "Reject null hypothesis\n"
     ]
    }
   ],
   "source": [
    "F, p = stats.f_oneway(d_data['not finished initial'], d_data['initial                         '],\n",
    "                      d_data['higher, specialist              '], \n",
    "                      d_data['primary                         '],d_data['higher, master                  '],\n",
    "                      d_data['secondary                       '],\n",
    "                     d_data['secondary specialized           '],d_data['secondary vocational-technical  '],\n",
    "                      d_data['vocational-technical            '], \n",
    "                      d_data['never been to school'],d_data['higher, bachelor                '],\n",
    "                     d_data['higher, ph.d.                   '])\n",
    "print(\"P-value for significance is: \", p)\n",
    "if p<0.05:\n",
    "    print(\"Reject null hypothesis\")\n",
    "else:\n",
    "    print(\"Accept null hypothesis\")"
   ]
  },
  {
   "cell_type": "markdown",
   "metadata": {},
   "source": [
    "Depending on the p-value we reject or accept the null hypothesis. In all of our cases we reject it. So there is a present relationship. One of the drawbacks of the this analysis is the assumption of a normal distribution of the data. Because ours does not seem to have a normal distribution we will use another method the non parametric Kruskal–Wallis one-way analysis of variance. You can find more on the topic here:\n",
    "https://en.wikipedia.org/wiki/Kruskal%E2%80%93Wallis_one-way_analysis_of_variance"
   ]
  },
  {
   "cell_type": "code",
   "execution_count": 64,
   "metadata": {},
   "outputs": [],
   "source": [
    "df_anova = data_use[['pention1', 'financial_situation']]\n",
    "grps = pd.unique(df_anova.financial_situation.values)\n",
    "d_data = {grp:df_anova['pention1'][df_anova.financial_situation == grp] for grp in grps}"
   ]
  },
  {
   "cell_type": "code",
   "execution_count": 65,
   "metadata": {},
   "outputs": [
    {
     "name": "stdout",
     "output_type": "stream",
     "text": [
      "P-value for significance is:  0.0\n",
      "Reject null hypothesis\n"
     ]
    }
   ],
   "source": [
    "F, p = stats.f_oneway(d_data['poor'], d_data['very poor'], d_data['good'], d_data['very good'],\n",
    "                      d_data['rich'])\n",
    "print(\"P-value for significance is: \", p)\n",
    "if p<0.05:\n",
    "    print(\"Reject null hypothesis\")\n",
    "else:\n",
    "    print(\"Accept null hypothesis\")"
   ]
  },
  {
   "cell_type": "markdown",
   "metadata": {},
   "source": [
    "Now we will try to use the 2 way ANOVA to use all of the variables. For more information on the topic you can view here:\n",
    "https://en.wikipedia.org/wiki/Two-way_analysis_of_variance"
   ]
  },
  {
   "cell_type": "code",
   "execution_count": 66,
   "metadata": {},
   "outputs": [
    {
     "name": "stdout",
     "output_type": "stream",
     "text": [
      "Overall model F( 53, 52338) =  115.665, p =  0.0000\n"
     ]
    }
   ],
   "source": [
    "model = ols('pention1 ~ C(health) + C(education) * C(financial_situation)', data_use).fit()\n",
    "\n",
    "    # Seeing if the overall model is significant\n",
    "print(f\"Overall model F({model.df_model: .0f},{model.df_resid: .0f}) = {model.fvalue: .3f}, p = {model.f_pvalue: .4f}\")"
   ]
  },
  {
   "cell_type": "markdown",
   "metadata": {},
   "source": [
    "The model consist of adding the health variable with the product of the education and the financial_situation.The conclusion is the same. The variables do have an effect on the pension levels."
   ]
  },
  {
   "cell_type": "code",
   "execution_count": 67,
   "metadata": {},
   "outputs": [
    {
     "name": "stdout",
     "output_type": "stream",
     "text": [
      "p = 0\n",
      "The null hypothesis can be rejected\n"
     ]
    }
   ],
   "source": [
    "k2, p = stats.normaltest(data_use[data_use['health']== 'good']['pention1'])\n",
    "print(\"p = {:g}\".format(p))\n",
    "p \n",
    "if p < 0.05:  # null hypothesis: x comes from a normal distribution\n",
    "    print(\"The null hypothesis can be rejected\")\n",
    "else:\n",
    "    print(\"The null hypothesis cannot be rejected\")"
   ]
  },
  {
   "cell_type": "code",
   "execution_count": 68,
   "metadata": {},
   "outputs": [
    {
     "name": "stdout",
     "output_type": "stream",
     "text": [
      "p = 0\n",
      "The null hypothesis can be rejected\n"
     ]
    }
   ],
   "source": [
    "k2, p = stats.normaltest(data_use[data_use['health']== 'excellent']['pention1'])\n",
    "print(\"p = {:g}\".format(p))\n",
    "p \n",
    "if p < 0.05:  # null hypothesis: x comes from a normal distribution\n",
    "    print(\"The null hypothesis can be rejected\")\n",
    "else:\n",
    "    print(\"The null hypothesis cannot be rejected\")"
   ]
  },
  {
   "cell_type": "code",
   "execution_count": 69,
   "metadata": {},
   "outputs": [
    {
     "name": "stdout",
     "output_type": "stream",
     "text": [
      "p = 0\n",
      "The null hypothesis can be rejected\n"
     ]
    }
   ],
   "source": [
    "k2, p = stats.normaltest(data_use[data_use['health']== 'satisfactory']['pention1'])\n",
    "print(\"p = {:g}\".format(p))\n",
    "p \n",
    "if p < 0.05:  # null hypothesis: x comes from a normal distribution\n",
    "    print(\"The null hypothesis can be rejected\")\n",
    "else:\n",
    "    print(\"The null hypothesis cannot be rejected\")"
   ]
  },
  {
   "cell_type": "code",
   "execution_count": 70,
   "metadata": {},
   "outputs": [
    {
     "name": "stdout",
     "output_type": "stream",
     "text": [
      "p = 0\n",
      "The null hypothesis can be rejected\n"
     ]
    }
   ],
   "source": [
    "k2, p = stats.normaltest(data_use[data_use['health']== 'poor']['pention1'])\n",
    "print(\"p = {:g}\".format(p))\n",
    "p \n",
    "if p < 0.05:  # null hypothesis: x comes from a normal distribution\n",
    "    print(\"The null hypothesis can be rejected\")\n",
    "else:\n",
    "    print(\"The null hypothesis cannot be rejected\")"
   ]
  },
  {
   "cell_type": "code",
   "execution_count": 71,
   "metadata": {},
   "outputs": [
    {
     "name": "stdout",
     "output_type": "stream",
     "text": [
      "p = 0.05917\n",
      "The null hypothesis cannot be rejected\n"
     ]
    }
   ],
   "source": [
    "k2, p = stats.normaltest(data_use[data_use['health']== \"don't know\"]['pention1'])\n",
    "print(\"p = {:g}\".format(p))\n",
    "p \n",
    "if p < 0.05:  # null hypothesis: x comes from a normal distribution\n",
    "    print(\"The null hypothesis can be rejected\")\n",
    "else:\n",
    "    print(\"The null hypothesis cannot be rejected\")"
   ]
  },
  {
   "cell_type": "markdown",
   "metadata": {},
   "source": [
    "The normalisy test (https://docs.scipy.org/doc/scipy/reference/generated/scipy.stats.normaltest.html) have been used to acess if the distribution is normal or not for the pensions depending on the health variable. Only the Don't know cateogory is insufficient to reject the null hypothesis, but its absolute frquency is very low, so we will, not address the issue more. Meaning that the populations are not normaly distributed."
   ]
  },
  {
   "cell_type": "code",
   "execution_count": 72,
   "metadata": {},
   "outputs": [
    {
     "data": {
      "text/plain": [
       "11339"
      ]
     },
     "execution_count": 72,
     "metadata": {},
     "output_type": "execute_result"
    }
   ],
   "source": [
    "len(data_use[data_use['health']== 'excellent']['pention1'])"
   ]
  },
  {
   "cell_type": "code",
   "execution_count": 73,
   "metadata": {},
   "outputs": [
    {
     "data": {
      "text/plain": [
       "6888"
      ]
     },
     "execution_count": 73,
     "metadata": {},
     "output_type": "execute_result"
    }
   ],
   "source": [
    "len(data_use[data_use['health']== 'poor']['pention1'])"
   ]
  },
  {
   "cell_type": "markdown",
   "metadata": {},
   "source": [
    "We will now try to use the non paramteric Spearman rank correlation coefficent. For more information on the topic you can view here: https://en.wikipedia.org/wiki/Spearman%27s_rank_correlation_coefficient. The test does not assume normal distribution. First we need to match the number of observations. In our case the 2 comparisons are the populations of the different health statuses. The poor health quantity is less, so we will remove parts of the excelent."
   ]
  },
  {
   "cell_type": "code",
   "execution_count": 74,
   "metadata": {},
   "outputs": [
    {
     "data": {
      "text/plain": [
       "SpearmanrResult(correlation=0.020244049274967774, pvalue=0.09295705242568156)"
      ]
     },
     "execution_count": 74,
     "metadata": {},
     "output_type": "execute_result"
    }
   ],
   "source": [
    "stats.spearmanr(data_use[data_use['health']== 'excellent']['pention1'][0:6888]\n",
    "                , data_use[data_use['health']== 'poor']['pention1'])"
   ]
  },
  {
   "cell_type": "markdown",
   "metadata": {},
   "source": [
    "There seems to be some dependency between the 2 populations of the health status."
   ]
  },
  {
   "cell_type": "code",
   "execution_count": 75,
   "metadata": {},
   "outputs": [
    {
     "name": "stdout",
     "output_type": "stream",
     "text": [
      "P-value for significance is:  2.132428954707578e-230\n",
      "Reject null hypothesis\n"
     ]
    }
   ],
   "source": [
    "F, p = stats.kruskal(data_use[data_use['health']== 'excellent']['pention1'],\n",
    "                      data_use[data_use['health']== 'poor']['pention1'] )\n",
    "print(\"P-value for significance is: \", p)\n",
    "if p<0.05:\n",
    "    print(\"Reject null hypothesis\")\n",
    "else:\n",
    "    print(\"Accept null hypothesis\")"
   ]
  },
  {
   "cell_type": "code",
   "execution_count": 76,
   "metadata": {},
   "outputs": [
    {
     "name": "stdout",
     "output_type": "stream",
     "text": [
      "P-value for significance is:  3.073432956639389e-160\n",
      "Reject null hypothesis\n"
     ]
    }
   ],
   "source": [
    "F, p = stats.kruskal(data_use[data_use['health']== 'good']['pention1'],\n",
    "                      data_use[data_use['health']== 'satisfactory']['pention1'] )\n",
    "print(\"P-value for significance is: \", p)\n",
    "if p<0.05:\n",
    "    print(\"Reject null hypothesis\")\n",
    "else:\n",
    "    print(\"Accept null hypothesis\")"
   ]
  },
  {
   "cell_type": "markdown",
   "metadata": {},
   "source": [
    "The 2 Kruskal-Wallis tests shows for that there is a connection between the health status and the pension. "
   ]
  },
  {
   "cell_type": "code",
   "execution_count": 77,
   "metadata": {},
   "outputs": [
    {
     "name": "stdout",
     "output_type": "stream",
     "text": [
      "P-value for significance is:  1.066264741767595e-230\n",
      "Reject null hypothesis\n"
     ]
    }
   ],
   "source": [
    "u_statistic, p = stats.mannwhitneyu(data_use[data_use['health']== 'excellent']['pention1'],\n",
    "                      data_use[data_use['health']== 'poor']['pention1'], alternative ='less')\n",
    "print(\"P-value for significance is: \", p)\n",
    "if p<0.05:\n",
    "    print(\"Reject null hypothesis\")\n",
    "else:\n",
    "    print(\"Accept null hypothesis\")"
   ]
  },
  {
   "cell_type": "code",
   "execution_count": 78,
   "metadata": {},
   "outputs": [
    {
     "name": "stdout",
     "output_type": "stream",
     "text": [
      "P-value for significance is:  2.58180341598765e-128\n",
      "Reject null hypothesis\n"
     ]
    }
   ],
   "source": [
    "u_statistic, p = stats.mannwhitneyu(data_use[data_use['health']== 'good']['pention1'],\n",
    "                      data_use[data_use['health']== 'poor']['pention1'], alternative ='less')\n",
    "print(\"P-value for significance is: \", p)\n",
    "if p<0.05:\n",
    "    print(\"Reject null hypothesis\")\n",
    "else:\n",
    "    print(\"Accept null hypothesis\")"
   ]
  },
  {
   "cell_type": "code",
   "execution_count": 79,
   "metadata": {},
   "outputs": [
    {
     "name": "stdout",
     "output_type": "stream",
     "text": [
      "P-value for significance is:  0.948038596771298\n",
      "Accept null hypothesis\n"
     ]
    }
   ],
   "source": [
    "u_statistic, p = stats.mannwhitneyu(data_use[data_use['health']== 'satisfactory']['pention1'],\n",
    "                      data_use[data_use['health']== 'poor']['pention1'], alternative ='less')\n",
    "print(\"P-value for significance is: \", p)\n",
    "if p<0.05:\n",
    "    print(\"Reject null hypothesis\")\n",
    "else:\n",
    "    print(\"Accept null hypothesis\")"
   ]
  },
  {
   "cell_type": "code",
   "execution_count": 80,
   "metadata": {},
   "outputs": [
    {
     "name": "stdout",
     "output_type": "stream",
     "text": [
      "P-value for significance is:  1.5367414076244768e-160\n",
      "Reject null hypothesis\n"
     ]
    }
   ],
   "source": [
    "u_statistic, p = stats.mannwhitneyu(data_use[data_use['health']== 'satisfactory']['pention1'],\n",
    "                      data_use[data_use['health']== 'good']['pention1'], alternative ='greater')\n",
    "print(\"P-value for significance is: \", p)\n",
    "if p<0.05:\n",
    "    print(\"Reject null hypothesis\")\n",
    "else:\n",
    "    print(\"Accept null hypothesis\")"
   ]
  },
  {
   "cell_type": "code",
   "execution_count": 81,
   "metadata": {},
   "outputs": [
    {
     "name": "stdout",
     "output_type": "stream",
     "text": [
      "P-value for significance is:  1.4165210593375793e-261\n",
      "Reject null hypothesis\n"
     ]
    }
   ],
   "source": [
    "u_statistic, p = stats.mannwhitneyu(data_use[data_use['health']== 'satisfactory']['pention1'],\n",
    "                      data_use[data_use['health']== 'excellent']['pention1'], alternative ='greater')\n",
    "print(\"P-value for significance is: \", p)\n",
    "if p<0.05:\n",
    "    print(\"Reject null hypothesis\")\n",
    "else:\n",
    "    print(\"Accept null hypothesis\")"
   ]
  },
  {
   "cell_type": "code",
   "execution_count": 82,
   "metadata": {},
   "outputs": [
    {
     "name": "stdout",
     "output_type": "stream",
     "text": [
      "1172.3564872757613\n",
      "1035.6697239615487\n",
      "1399.5917444717445\n",
      "1371.9382984901279\n",
      "2048.8\n"
     ]
    }
   ],
   "source": [
    "print(data_use[data_use['health']== 'good']['pention1'].mean())\n",
    "print(data_use[data_use['health']=='excellent']['pention1'].mean())\n",
    "print(data_use[data_use['health']== 'satisfactory']['pention1'].mean())\n",
    "print(data_use[data_use['health']== 'poor']['pention1'].mean())\n",
    "print(data_use[data_use['health']==\"don't know\"]['pention1'].mean())"
   ]
  },
  {
   "cell_type": "markdown",
   "metadata": {},
   "source": [
    "Mann–Whitney U test was performed to access the relationship beween the health status and the pensions. It seems that the pensioners with the poorer health status have a higher pension. This is although not present with between the satifactory and the poor health status. For more information on the test you can see here:\n",
    "https://ipfs.io/ipfs/QmXoypizjW3WknFiJnKLwHCnL72vedxjQkDDP1mXWo6uco/wiki/Mann–Whitney_U_test.html"
   ]
  },
  {
   "cell_type": "code",
   "execution_count": 83,
   "metadata": {},
   "outputs": [
    {
     "name": "stdout",
     "output_type": "stream",
     "text": [
      "p = 5.02945e-09\n",
      "The null hypothesis can be rejected\n"
     ]
    }
   ],
   "source": [
    "k2, p = stats.normaltest(data_use[data_use['education']== 'higher, ph.d.                   ']['pention1'])\n",
    "print(\"p = {:g}\".format(p))\n",
    "p \n",
    "if p < 0.05:  # null hypothesis: x comes from a normal distribution\n",
    "    print(\"The null hypothesis can be rejected\")\n",
    "else:\n",
    "    print(\"The null hypothesis cannot be rejected\")"
   ]
  },
  {
   "cell_type": "code",
   "execution_count": 84,
   "metadata": {},
   "outputs": [
    {
     "name": "stdout",
     "output_type": "stream",
     "text": [
      "p = 0\n",
      "The null hypothesis can be rejected\n"
     ]
    }
   ],
   "source": [
    "k2, p = stats.normaltest(data_use[data_use['education']== 'not finished initial']['pention1'])\n",
    "print(\"p = {:g}\".format(p))\n",
    "p \n",
    "if p < 0.05:  # null hypothesis: x comes from a normal distribution\n",
    "    print(\"The null hypothesis can be rejected\")\n",
    "else:\n",
    "    print(\"The null hypothesis cannot be rejected\")"
   ]
  },
  {
   "cell_type": "code",
   "execution_count": 85,
   "metadata": {},
   "outputs": [
    {
     "name": "stdout",
     "output_type": "stream",
     "text": [
      "p = 0\n",
      "The null hypothesis can be rejected\n"
     ]
    }
   ],
   "source": [
    "k2, p = stats.normaltest(data_use[data_use['education']== 'secondary vocational-technical  ']['pention1'])\n",
    "print(\"p = {:g}\".format(p))\n",
    "p \n",
    "if p < 0.05:  # null hypothesis: x comes from a normal distribution\n",
    "    print(\"The null hypothesis can be rejected\")\n",
    "else:\n",
    "    print(\"The null hypothesis cannot be rejected\")"
   ]
  },
  {
   "cell_type": "code",
   "execution_count": 86,
   "metadata": {},
   "outputs": [
    {
     "name": "stdout",
     "output_type": "stream",
     "text": [
      "p = 1.20332e-123\n",
      "The null hypothesis can be rejected\n"
     ]
    }
   ],
   "source": [
    "k2, p = stats.normaltest(data_use[data_use['education']== 'higher, bachelor                ']['pention1'])\n",
    "print(\"p = {:g}\".format(p))\n",
    "p \n",
    "if p < 0.05:  # null hypothesis: x comes from a normal distribution\n",
    "    print(\"The null hypothesis can be rejected\")\n",
    "else:\n",
    "    print(\"The null hypothesis cannot be rejected\")"
   ]
  },
  {
   "cell_type": "code",
   "execution_count": 87,
   "metadata": {},
   "outputs": [
    {
     "name": "stdout",
     "output_type": "stream",
     "text": [
      "p = 7.99709e-128\n",
      "The null hypothesis can be rejected\n"
     ]
    }
   ],
   "source": [
    "k2, p = stats.normaltest(data_use[data_use['education']== 'higher, master                  ']['pention1'])\n",
    "print(\"p = {:g}\".format(p))\n",
    "p \n",
    "if p < 0.05:  # null hypothesis: x comes from a normal distribution\n",
    "    print(\"The null hypothesis can be rejected\")\n",
    "else:\n",
    "    print(\"The null hypothesis cannot be rejected\")"
   ]
  },
  {
   "cell_type": "code",
   "execution_count": 88,
   "metadata": {},
   "outputs": [
    {
     "name": "stdout",
     "output_type": "stream",
     "text": [
      "p = 0\n",
      "The null hypothesis can be rejected\n"
     ]
    }
   ],
   "source": [
    "k2, p = stats.normaltest(data_use[data_use['education']== 'secondary                       ']['pention1'])\n",
    "print(\"p = {:g}\".format(p))\n",
    "p \n",
    "if p < 0.05:  # null hypothesis: x comes from a normal distribution\n",
    "    print(\"The null hypothesis can be rejected\")\n",
    "else:\n",
    "    print(\"The null hypothesis cannot be rejected\")"
   ]
  },
  {
   "cell_type": "code",
   "execution_count": 89,
   "metadata": {},
   "outputs": [
    {
     "name": "stdout",
     "output_type": "stream",
     "text": [
      "p = 0\n",
      "The null hypothesis can be rejected\n"
     ]
    }
   ],
   "source": [
    "k2, p = stats.normaltest(data_use[data_use['education']== 'primary                         ']['pention1'])\n",
    "print(\"p = {:g}\".format(p))\n",
    "p \n",
    "if p < 0.05:  # null hypothesis: x comes from a normal distribution\n",
    "    print(\"The null hypothesis can be rejected\")\n",
    "else:\n",
    "    print(\"The null hypothesis cannot be rejected\")"
   ]
  },
  {
   "cell_type": "code",
   "execution_count": 90,
   "metadata": {},
   "outputs": [
    {
     "name": "stdout",
     "output_type": "stream",
     "text": [
      "p = 1.59379e-49\n",
      "The null hypothesis can be rejected\n"
     ]
    }
   ],
   "source": [
    "k2, p = stats.normaltest(data_use[data_use['education']== 'never been to school']['pention1'])\n",
    "print(\"p = {:g}\".format(p))\n",
    "p \n",
    "if p < 0.05:  # null hypothesis: x comes from a normal distribution\n",
    "    print(\"The null hypothesis can be rejected\")\n",
    "else:\n",
    "    print(\"The null hypothesis cannot be rejected\")"
   ]
  },
  {
   "cell_type": "markdown",
   "metadata": {},
   "source": [
    "All of the populations are not having a normal distribution. We will again proceed with Mann–Whitney U test. We state the alternative hypothesis as the first population having a statically higher mean then the second. The null hypothesis is that they are the same."
   ]
  },
  {
   "cell_type": "code",
   "execution_count": 91,
   "metadata": {},
   "outputs": [
    {
     "name": "stdout",
     "output_type": "stream",
     "text": [
      "P-value for significance is:  3.794381960844234e-47\n",
      "Reject null hypothesis\n"
     ]
    }
   ],
   "source": [
    "u_statistic, p = stats.mannwhitneyu(data_use[data_use['education']== 'higher, ph.d.                   ']['pention1'],\n",
    "                      data_use[data_use['education']== 'not finished initial']['pention1'], alternative ='greater')\n",
    "print(\"P-value for significance is: \", p)\n",
    "if p<0.05:\n",
    "    print(\"Reject null hypothesis\")\n",
    "else:\n",
    "    print(\"Accept null hypothesis\")"
   ]
  },
  {
   "cell_type": "code",
   "execution_count": 92,
   "metadata": {},
   "outputs": [
    {
     "name": "stdout",
     "output_type": "stream",
     "text": [
      "P-value for significance is:  6.235689592591135e-25\n",
      "Reject null hypothesis\n"
     ]
    }
   ],
   "source": [
    "u_statistic, p = stats.mannwhitneyu(data_use[data_use['education']== 'higher, ph.d.                   ']['pention1'],\n",
    "                      data_use[data_use['education']== 'primary                         ']['pention1'], alternative ='greater')\n",
    "print(\"P-value for significance is: \", p)\n",
    "if p<0.05:\n",
    "    print(\"Reject null hypothesis\")\n",
    "else:\n",
    "    print(\"Accept null hypothesis\")"
   ]
  },
  {
   "cell_type": "code",
   "execution_count": 93,
   "metadata": {},
   "outputs": [
    {
     "name": "stdout",
     "output_type": "stream",
     "text": [
      "P-value for significance is:  2.8207918094542113e-11\n",
      "Reject null hypothesis\n"
     ]
    }
   ],
   "source": [
    "u_statistic, p = stats.mannwhitneyu(data_use[data_use['education']== 'higher, ph.d.                   ']['pention1'],\n",
    "                      data_use[data_use['education']== 'secondary                       ']['pention1'], alternative ='greater')\n",
    "print(\"P-value for significance is: \", p)\n",
    "if p<0.05:\n",
    "    print(\"Reject null hypothesis\")\n",
    "else:\n",
    "    print(\"Accept null hypothesis\")"
   ]
  },
  {
   "cell_type": "code",
   "execution_count": 94,
   "metadata": {},
   "outputs": [
    {
     "name": "stdout",
     "output_type": "stream",
     "text": [
      "P-value for significance is:  5.517724835398561e-08\n",
      "Reject null hypothesis\n"
     ]
    }
   ],
   "source": [
    "u_statistic, p = stats.mannwhitneyu(data_use[data_use['education']== 'higher, ph.d.                   ']['pention1'],\n",
    "                      data_use[data_use['education']== 'secondary specialized           ']['pention1'], alternative ='greater')\n",
    "print(\"P-value for significance is: \", p)\n",
    "if p<0.05:\n",
    "    print(\"Reject null hypothesis\")\n",
    "else:\n",
    "    print(\"Accept null hypothesis\")"
   ]
  },
  {
   "cell_type": "code",
   "execution_count": 95,
   "metadata": {},
   "outputs": [
    {
     "name": "stdout",
     "output_type": "stream",
     "text": [
      "P-value for significance is:  2.0277852612492133e-13\n",
      "Reject null hypothesis\n"
     ]
    }
   ],
   "source": [
    "u_statistic, p = stats.mannwhitneyu(data_use[data_use['education']== 'higher, ph.d.                   ']['pention1'],\n",
    "                      data_use[data_use['education']== 'vocational-technical            ']['pention1'], alternative ='greater')\n",
    "print(\"P-value for significance is: \", p)\n",
    "if p<0.05:\n",
    "    print(\"Reject null hypothesis\")\n",
    "else:\n",
    "    print(\"Accept null hypothesis\")"
   ]
  },
  {
   "cell_type": "code",
   "execution_count": 96,
   "metadata": {},
   "outputs": [
    {
     "name": "stdout",
     "output_type": "stream",
     "text": [
      "P-value for significance is:  0.008656751284442366\n",
      "Reject null hypothesis\n"
     ]
    }
   ],
   "source": [
    "u_statistic, p = stats.mannwhitneyu(data_use[data_use['education']== 'higher, ph.d.                   ']['pention1'],\n",
    "                      data_use[data_use['education']== 'higher, specialist              ']['pention1'], alternative ='greater')\n",
    "print(\"P-value for significance is: \", p)\n",
    "if p<0.05:\n",
    "    print(\"Reject null hypothesis\")\n",
    "else:\n",
    "    print(\"Accept null hypothesis\")"
   ]
  },
  {
   "cell_type": "code",
   "execution_count": 97,
   "metadata": {},
   "outputs": [
    {
     "name": "stdout",
     "output_type": "stream",
     "text": [
      "P-value for significance is:  0.0013952020158243756\n",
      "Reject null hypothesis\n"
     ]
    }
   ],
   "source": [
    "u_statistic, p = stats.mannwhitneyu(data_use[data_use['education']== 'higher, ph.d.                   ']['pention1'],\n",
    "                      data_use[data_use['education']== 'higher, master                  ']['pention1'], alternative ='greater')\n",
    "print(\"P-value for significance is: \", p)\n",
    "if p<0.05:\n",
    "    print(\"Reject null hypothesis\")\n",
    "else:\n",
    "    print(\"Accept null hypothesis\")"
   ]
  },
  {
   "cell_type": "code",
   "execution_count": 98,
   "metadata": {},
   "outputs": [
    {
     "name": "stdout",
     "output_type": "stream",
     "text": [
      "P-value for significance is:  1.6962998494495033e-08\n",
      "Reject null hypothesis\n"
     ]
    }
   ],
   "source": [
    "u_statistic, p = stats.mannwhitneyu(data_use[data_use['education']== 'higher, master                  ']['pention1'],\n",
    "                      data_use[data_use['education']== 'higher, bachelor                ']['pention1'], alternative ='greater')\n",
    "print(\"P-value for significance is: \", p)\n",
    "if p<0.05:\n",
    "    print(\"Reject null hypothesis\")\n",
    "else:\n",
    "    print(\"Accept null hypothesis\")"
   ]
  },
  {
   "cell_type": "code",
   "execution_count": 99,
   "metadata": {},
   "outputs": [
    {
     "name": "stdout",
     "output_type": "stream",
     "text": [
      "P-value for significance is:  0.710690782326092\n",
      "Accept null hypothesis\n"
     ]
    }
   ],
   "source": [
    "u_statistic, p = stats.mannwhitneyu(data_use[data_use['education']== 'higher, master                  ']['pention1'],\n",
    "                      data_use[data_use['education']== 'higher, specialist              ']['pention1'], alternative ='greater')\n",
    "print(\"P-value for significance is: \", p)\n",
    "if p<0.05:\n",
    "    print(\"Reject null hypothesis\")\n",
    "else:\n",
    "    print(\"Accept null hypothesis\")"
   ]
  },
  {
   "cell_type": "code",
   "execution_count": 100,
   "metadata": {},
   "outputs": [
    {
     "name": "stdout",
     "output_type": "stream",
     "text": [
      "P-value for significance is:  0.93751409535605\n",
      "Accept null hypothesis\n"
     ]
    }
   ],
   "source": [
    "u_statistic, p = stats.mannwhitneyu(data_use[data_use['education']== 'higher, bachelor                ']['pention1'],\n",
    "                      data_use[data_use['education']== 'secondary specialized           ']['pention1'], alternative ='greater')\n",
    "print(\"P-value for significance is: \", p)\n",
    "if p<0.05:\n",
    "    print(\"Reject null hypothesis\")\n",
    "else:\n",
    "    print(\"Accept null hypothesis\")"
   ]
  },
  {
   "cell_type": "code",
   "execution_count": 101,
   "metadata": {},
   "outputs": [
    {
     "name": "stdout",
     "output_type": "stream",
     "text": [
      "P-value for significance is:  0.09761061258012049\n",
      "Accept null hypothesis\n"
     ]
    }
   ],
   "source": [
    "u_statistic, p = stats.mannwhitneyu(data_use[data_use['education']== 'higher, bachelor                ']['pention1'],\n",
    "                      data_use[data_use['education']== 'secondary vocational-technical  ']['pention1'], alternative ='greater')\n",
    "print(\"P-value for significance is: \", p)\n",
    "if p<0.05:\n",
    "    print(\"Reject null hypothesis\")\n",
    "else:\n",
    "    print(\"Accept null hypothesis\")"
   ]
  },
  {
   "cell_type": "code",
   "execution_count": 102,
   "metadata": {},
   "outputs": [
    {
     "name": "stdout",
     "output_type": "stream",
     "text": [
      "P-value for significance is:  6.830275706094211e-27\n",
      "Reject null hypothesis\n"
     ]
    }
   ],
   "source": [
    "u_statistic, p = stats.mannwhitneyu(data_use[data_use['education']== 'higher, master                  ']['pention1'],\n",
    "                      data_use[data_use['education']== 'secondary vocational-technical  ']['pention1'], alternative ='greater')\n",
    "print(\"P-value for significance is: \", p)\n",
    "if p<0.05:\n",
    "    print(\"Reject null hypothesis\")\n",
    "else:\n",
    "    print(\"Accept null hypothesis\")"
   ]
  },
  {
   "cell_type": "code",
   "execution_count": 103,
   "metadata": {},
   "outputs": [
    {
     "name": "stdout",
     "output_type": "stream",
     "text": [
      "P-value for significance is:  6.830275706094211e-27\n",
      "Reject null hypothesis\n"
     ]
    }
   ],
   "source": [
    "u_statistic, p = stats.mannwhitneyu(data_use[data_use['education']== 'higher, master                  ']['pention1'],\n",
    "                      data_use[data_use['education']== 'secondary vocational-technical  ']['pention1'], alternative ='greater')\n",
    "print(\"P-value for significance is: \", p)\n",
    "if p<0.05:\n",
    "    print(\"Reject null hypothesis\")\n",
    "else:\n",
    "    print(\"Accept null hypothesis\")"
   ]
  },
  {
   "cell_type": "markdown",
   "metadata": {},
   "source": [
    "The performed tests indicate that with better education comes higher pention. This is not always the case for example some people with secondary specialized education do have higher pentions then bachelors."
   ]
  },
  {
   "cell_type": "code",
   "execution_count": 104,
   "metadata": {},
   "outputs": [
    {
     "name": "stdout",
     "output_type": "stream",
     "text": [
      "832.2723311546841\n",
      "1004.135039309388\n",
      "1629.2562814070352\n",
      "1123.1535418695228\n",
      "1597.4994690265487\n",
      "1324.6948835274543\n",
      "1405.214073473798\n",
      "1351.000378000378\n",
      "1241.1495145631068\n",
      "878.234935163997\n",
      "1399.5984911986588\n",
      "1880.7739130434782\n"
     ]
    }
   ],
   "source": [
    "print(data_use[data_use['education']== 'not finished initial']['pention1'].mean())\n",
    "print(data_use[data_use['education']=='initial                         ']['pention1'].mean())\n",
    "print(data_use[data_use['education']== 'higher, specialist              ']['pention1'].mean())\n",
    "print(data_use[data_use['education']== 'primary                         ']['pention1'].mean())\n",
    "print(data_use[data_use['education']==\"higher, master                  \"]['pention1'].mean())\n",
    "print(data_use[data_use['education']== 'secondary                       ']['pention1'].mean())\n",
    "print(data_use[data_use['education']=='secondary specialized           ']['pention1'].mean())\n",
    "print(data_use[data_use['education']== 'secondary vocational-technical  ']['pention1'].mean())\n",
    "print(data_use[data_use['education']== 'vocational-technical            ']['pention1'].mean())\n",
    "print(data_use[data_use['education']==\"never been to school\"]['pention1'].mean())\n",
    "print(data_use[data_use['education']== 'higher, bachelor                ']['pention1'].mean())\n",
    "print(data_use[data_use['education']==\"higher, ph.d.                   \"]['pention1'].mean())"
   ]
  },
  {
   "cell_type": "markdown",
   "metadata": {},
   "source": [
    "Finally we move to the financial status. The normalisy test shows that the distribution is not normal."
   ]
  },
  {
   "cell_type": "code",
   "execution_count": 105,
   "metadata": {},
   "outputs": [
    {
     "name": "stdout",
     "output_type": "stream",
     "text": [
      "p = 0\n",
      "The null hypothesis can be rejected\n"
     ]
    }
   ],
   "source": [
    "k2, p = stats.normaltest(data_use[data_use['financial_situation']== 'poor']['pention1'])\n",
    "print(\"p = {:g}\".format(p))\n",
    "p \n",
    "if p < 0.05:  # null hypothesis: x comes from a normal distribution\n",
    "    print(\"The null hypothesis can be rejected\")\n",
    "else:\n",
    "    print(\"The null hypothesis cannot be rejected\")"
   ]
  },
  {
   "cell_type": "code",
   "execution_count": 106,
   "metadata": {},
   "outputs": [
    {
     "name": "stdout",
     "output_type": "stream",
     "text": [
      "p = 1.64474e-303\n",
      "The null hypothesis can be rejected\n"
     ]
    }
   ],
   "source": [
    "k2, p = stats.normaltest(data_use[data_use['financial_situation']== 'very poor']['pention1'])\n",
    "print(\"p = {:g}\".format(p))\n",
    "p \n",
    "if p < 0.05:  # null hypothesis: x comes from a normal distribution\n",
    "    print(\"The null hypothesis can be rejected\")\n",
    "else:\n",
    "    print(\"The null hypothesis cannot be rejected\")"
   ]
  },
  {
   "cell_type": "code",
   "execution_count": 107,
   "metadata": {},
   "outputs": [
    {
     "name": "stdout",
     "output_type": "stream",
     "text": [
      "p = 0\n",
      "The null hypothesis can be rejected\n"
     ]
    }
   ],
   "source": [
    "k2, p = stats.normaltest(data_use[data_use['financial_situation']== 'good']['pention1'])\n",
    "print(\"p = {:g}\".format(p))\n",
    "p \n",
    "if p < 0.05:  # null hypothesis: x comes from a normal distribution\n",
    "    print(\"The null hypothesis can be rejected\")\n",
    "else:\n",
    "    print(\"The null hypothesis cannot be rejected\")"
   ]
  },
  {
   "cell_type": "code",
   "execution_count": 108,
   "metadata": {},
   "outputs": [
    {
     "name": "stdout",
     "output_type": "stream",
     "text": [
      "p = 3.39023e-137\n",
      "The null hypothesis can be rejected\n"
     ]
    }
   ],
   "source": [
    "k2, p = stats.normaltest(data_use[data_use['financial_situation']== 'very good']['pention1'])\n",
    "print(\"p = {:g}\".format(p))\n",
    "p \n",
    "if p < 0.05:  # null hypothesis: x comes from a normal distribution\n",
    "    print(\"The null hypothesis can be rejected\")\n",
    "else:\n",
    "    print(\"The null hypothesis cannot be rejected\")"
   ]
  },
  {
   "cell_type": "code",
   "execution_count": 109,
   "metadata": {},
   "outputs": [
    {
     "name": "stdout",
     "output_type": "stream",
     "text": [
      "P-value for significance is:  6.813399368854946e-14\n",
      "Reject null hypothesis\n"
     ]
    }
   ],
   "source": [
    "u_statistic, p = stats.mannwhitneyu(data_use[data_use['financial_situation']== 'poor']['pention1'],\n",
    "                      data_use[data_use['financial_situation']== 'good']['pention1'], alternative ='less')\n",
    "print(\"P-value for significance is: \", p)\n",
    "if p<0.05:\n",
    "    print(\"Reject null hypothesis\")\n",
    "else:\n",
    "    print(\"Accept null hypothesis\")"
   ]
  },
  {
   "cell_type": "code",
   "execution_count": 110,
   "metadata": {},
   "outputs": [
    {
     "name": "stdout",
     "output_type": "stream",
     "text": [
      "P-value for significance is:  0.0\n",
      "Reject null hypothesis\n"
     ]
    }
   ],
   "source": [
    "u_statistic, p = stats.mannwhitneyu(data_use[data_use['financial_situation']== 'very poor']['pention1'],\n",
    "                      data_use[data_use['financial_situation']== 'good']['pention1'], alternative ='less')\n",
    "print(\"P-value for significance is: \", p)\n",
    "if p<0.05:\n",
    "    print(\"Reject null hypothesis\")\n",
    "else:\n",
    "    print(\"Accept null hypothesis\")"
   ]
  },
  {
   "cell_type": "code",
   "execution_count": 111,
   "metadata": {},
   "outputs": [
    {
     "name": "stdout",
     "output_type": "stream",
     "text": [
      "P-value for significance is:  0.44036126730257436\n",
      "Accept null hypothesis\n"
     ]
    }
   ],
   "source": [
    "u_statistic, p = stats.mannwhitneyu(data_use[data_use['financial_situation']== 'good']['pention1'],\n",
    "                      data_use[data_use['financial_situation']== 'very good']['pention1'], alternative ='less')\n",
    "print(\"P-value for significance is: \", p)\n",
    "if p<0.05:\n",
    "    print(\"Reject null hypothesis\")\n",
    "else:\n",
    "    print(\"Accept null hypothesis\")"
   ]
  },
  {
   "cell_type": "code",
   "execution_count": 112,
   "metadata": {},
   "outputs": [
    {
     "name": "stdout",
     "output_type": "stream",
     "text": [
      "P-value for significance is:  0.0\n",
      "Reject null hypothesis\n"
     ]
    }
   ],
   "source": [
    "u_statistic, p = stats.mannwhitneyu(data_use[data_use['financial_situation']== 'very poor']['pention1'],\n",
    "                      data_use[data_use['financial_situation']== 'poor']['pention1'], alternative ='less')\n",
    "print(\"P-value for significance is: \", p)\n",
    "if p<0.05:\n",
    "    print(\"Reject null hypothesis\")\n",
    "else:\n",
    "    print(\"Accept null hypothesis\")"
   ]
  },
  {
   "cell_type": "markdown",
   "metadata": {},
   "source": [
    "We can see that the higher the pention the better the financial status. This is entirely logical."
   ]
  },
  {
   "cell_type": "code",
   "execution_count": 113,
   "metadata": {},
   "outputs": [
    {
     "name": "stdout",
     "output_type": "stream",
     "text": [
      "1238.4464961067854\n",
      "876.8548387096774\n",
      "1347.6690250754343\n",
      "1432.3967661691543\n"
     ]
    }
   ],
   "source": [
    "print(data_use[data_use['financial_situation']== 'poor']['pention1'].mean())\n",
    "print(data_use[data_use['financial_situation']=='very poor']['pention1'].mean())\n",
    "print(data_use[data_use['financial_situation']== 'good']['pention1'].mean())\n",
    "print(data_use[data_use['financial_situation']== 'very good']['pention1'].mean())"
   ]
  },
  {
   "cell_type": "markdown",
   "metadata": {},
   "source": [
    "## 6. Conclusion\n",
    "All the test show that there is a relationship between the variables and the pension. More work is needed to determine the strength and way of the relationship."
   ]
  },
  {
   "cell_type": "markdown",
   "metadata": {},
   "source": [
    "## 7. References:\n",
    "1. https://www.worldbank.org/\n",
    "2. https://www.wikipedia.org/\n",
    "3. https://medium.com\n",
    "4. https://towardsdatascience.com"
   ]
  }
 ],
 "metadata": {
  "kernelspec": {
   "display_name": "Python 3",
   "language": "python",
   "name": "python3"
  },
  "language_info": {
   "codemirror_mode": {
    "name": "ipython",
    "version": 3
   },
   "file_extension": ".py",
   "mimetype": "text/x-python",
   "name": "python",
   "nbconvert_exporter": "python",
   "pygments_lexer": "ipython3",
   "version": "3.7.3"
  }
 },
 "nbformat": 4,
 "nbformat_minor": 2
}
